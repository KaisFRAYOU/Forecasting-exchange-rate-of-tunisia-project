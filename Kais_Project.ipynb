{
  "nbformat": 4,
  "nbformat_minor": 0,
  "metadata": {
    "colab": {
      "provenance": []
    },
    "kernelspec": {
      "name": "python3",
      "display_name": "Python 3"
    },
    "language_info": {
      "name": "python"
    }
  },
  "cells": [
    {
      "cell_type": "code",
      "execution_count": 1,
      "metadata": {
        "colab": {
          "base_uri": "https://localhost:8080/"
        },
        "id": "MSOzCQgvnvgO",
        "outputId": "7b762fee-b0c9-477c-9f17-f7997b2f36a4"
      },
      "outputs": [
        {
          "output_type": "stream",
          "name": "stdout",
          "text": [
            "              CPI    IPI  Reserves  Balance Commerciale        M3  \\\n",
            "Date                                                                \n",
            "2022-01-01  144.5   95.8  24972743             0.834743   97045.0   \n",
            "2022-02-01  145.0   92.6  25188219             0.708072   97883.0   \n",
            "2022-03-01  146.2  100.3  24209796             0.769572   99055.0   \n",
            "2022-04-01  148.2    NaN  25715075                  NaN  100243.0   \n",
            "2022-05-01  149.5    NaN  26329963                  NaN       NaN   \n",
            "\n",
            "            Exchange_rate (dollar/Euro)  Taux dinteret  Exchange1  Exchange2  \n",
            "Date                                                                          \n",
            "2022-01-01                       1.1156           6.19   3.284897     2.9591  \n",
            "2022-02-01                       1.1199           6.25   3.243495     2.9074  \n",
            "2022-03-01                       1.1101           6.26   3.264173     2.9147  \n",
            "2022-04-01                       1.0540           6.26   3.284897     2.9591  \n",
            "2022-05-01                       1.0713           6.60   3.247058     3.0807  \n"
          ]
        }
      ],
      "source": [
        "import pandas as pd\n",
        "import numpy as np\n",
        "path=\"/content/Final2.xlsx\"\n",
        "df=pd.read_excel(path,index_col=0,parse_dates=True)\n",
        "print(df.tail())"
      ]
    },
    {
      "cell_type": "code",
      "source": [
        "# Data cleaning \n",
        "# replace missing values with the median.\n",
        "# impute the missing values and create the missing value indicator variables for each numeric column.\n",
        "df_numeric = df.select_dtypes(include=[np.number])\n",
        "numeric_cols = df_numeric.columns.values\n",
        "\n",
        "for col in numeric_cols:\n",
        "    missing = df[col].isnull()\n",
        "    num_missing = np.sum(missing)\n",
        "    \n",
        "    if num_missing > 0:  # only do the imputation for the columns that have missing values.\n",
        "        print('imputing missing values for: {}'.format(col))\n",
        "        df['{}_ismissing'.format(col)] = missing\n",
        "        med = df[col].median()\n",
        "        df[col] = df[col].fillna(med)\n",
        "df\n"
      ],
      "metadata": {
        "colab": {
          "base_uri": "https://localhost:8080/",
          "height": 762
        },
        "id": "MnL88hLDnzjZ",
        "outputId": "9bb7b46b-e3f9-4f73-98cf-830ca770c5b8"
      },
      "execution_count": 2,
      "outputs": [
        {
          "output_type": "stream",
          "name": "stdout",
          "text": [
            "imputing missing values for: IPI\n",
            "imputing missing values for: Balance Commerciale\n",
            "imputing missing values for: M3\n"
          ]
        },
        {
          "output_type": "execute_result",
          "data": {
            "text/plain": [
              "              CPI    IPI  Reserves  Balance Commerciale        M3  \\\n",
              "Date                                                                \n",
              "2000-01-01   57.6   78.0   3001350             0.721995   12494.0   \n",
              "2000-02-01   57.7   79.0   2540672             0.749059   12512.0   \n",
              "2000-03-01   57.7   81.0   2377402             0.759163   12549.0   \n",
              "2000-04-01   57.6   78.0   2114395             0.582870   12480.0   \n",
              "2000-05-01   57.6   85.0   2080391             0.633519   12514.0   \n",
              "...           ...    ...       ...                  ...       ...   \n",
              "2022-01-01  144.5   95.8  24972743             0.834743   97045.0   \n",
              "2022-02-01  145.0   92.6  25188219             0.708072   97883.0   \n",
              "2022-03-01  146.2  100.3  24209796             0.769572   99055.0   \n",
              "2022-04-01  148.2   92.6  25715075             0.713563  100243.0   \n",
              "2022-05-01  149.5   92.6  26329963             0.713563   41184.5   \n",
              "\n",
              "            Exchange_rate (dollar/Euro)  Taux dinteret  Exchange1  Exchange2  \\\n",
              "Date                                                                           \n",
              "2000-01-01                       0.9791           5.88   1.248842     1.2755   \n",
              "2000-02-01                       0.9714           5.88   1.258740     1.2958   \n",
              "2000-03-01                       0.9553           5.88   1.258226     1.3171   \n",
              "2000-04-01                       0.9085           5.88   1.250641     1.3766   \n",
              "2000-05-01                       0.9303           5.88   1.278232     1.3740   \n",
              "...                                 ...            ...        ...        ...   \n",
              "2022-01-01                       1.1156           6.19   3.284897     2.9591   \n",
              "2022-02-01                       1.1199           6.25   3.243495     2.9074   \n",
              "2022-03-01                       1.1101           6.26   3.264173     2.9147   \n",
              "2022-04-01                       1.0540           6.26   3.284897     2.9591   \n",
              "2022-05-01                       1.0713           6.60   3.247058     3.0807   \n",
              "\n",
              "            IPI_ismissing  Balance Commerciale_ismissing  M3_ismissing  \n",
              "Date                                                                    \n",
              "2000-01-01          False                          False         False  \n",
              "2000-02-01          False                          False         False  \n",
              "2000-03-01          False                          False         False  \n",
              "2000-04-01          False                          False         False  \n",
              "2000-05-01          False                          False         False  \n",
              "...                   ...                            ...           ...  \n",
              "2022-01-01          False                          False         False  \n",
              "2022-02-01          False                          False         False  \n",
              "2022-03-01          False                          False         False  \n",
              "2022-04-01           True                           True         False  \n",
              "2022-05-01           True                           True          True  \n",
              "\n",
              "[269 rows x 12 columns]"
            ],
            "text/html": [
              "\n",
              "  <div id=\"df-23de8ffc-2159-4e44-9d56-1f986cb4b884\">\n",
              "    <div class=\"colab-df-container\">\n",
              "      <div>\n",
              "<style scoped>\n",
              "    .dataframe tbody tr th:only-of-type {\n",
              "        vertical-align: middle;\n",
              "    }\n",
              "\n",
              "    .dataframe tbody tr th {\n",
              "        vertical-align: top;\n",
              "    }\n",
              "\n",
              "    .dataframe thead th {\n",
              "        text-align: right;\n",
              "    }\n",
              "</style>\n",
              "<table border=\"1\" class=\"dataframe\">\n",
              "  <thead>\n",
              "    <tr style=\"text-align: right;\">\n",
              "      <th></th>\n",
              "      <th>CPI</th>\n",
              "      <th>IPI</th>\n",
              "      <th>Reserves</th>\n",
              "      <th>Balance Commerciale</th>\n",
              "      <th>M3</th>\n",
              "      <th>Exchange_rate (dollar/Euro)</th>\n",
              "      <th>Taux dinteret</th>\n",
              "      <th>Exchange1</th>\n",
              "      <th>Exchange2</th>\n",
              "      <th>IPI_ismissing</th>\n",
              "      <th>Balance Commerciale_ismissing</th>\n",
              "      <th>M3_ismissing</th>\n",
              "    </tr>\n",
              "    <tr>\n",
              "      <th>Date</th>\n",
              "      <th></th>\n",
              "      <th></th>\n",
              "      <th></th>\n",
              "      <th></th>\n",
              "      <th></th>\n",
              "      <th></th>\n",
              "      <th></th>\n",
              "      <th></th>\n",
              "      <th></th>\n",
              "      <th></th>\n",
              "      <th></th>\n",
              "      <th></th>\n",
              "    </tr>\n",
              "  </thead>\n",
              "  <tbody>\n",
              "    <tr>\n",
              "      <th>2000-01-01</th>\n",
              "      <td>57.6</td>\n",
              "      <td>78.0</td>\n",
              "      <td>3001350</td>\n",
              "      <td>0.721995</td>\n",
              "      <td>12494.0</td>\n",
              "      <td>0.9791</td>\n",
              "      <td>5.88</td>\n",
              "      <td>1.248842</td>\n",
              "      <td>1.2755</td>\n",
              "      <td>False</td>\n",
              "      <td>False</td>\n",
              "      <td>False</td>\n",
              "    </tr>\n",
              "    <tr>\n",
              "      <th>2000-02-01</th>\n",
              "      <td>57.7</td>\n",
              "      <td>79.0</td>\n",
              "      <td>2540672</td>\n",
              "      <td>0.749059</td>\n",
              "      <td>12512.0</td>\n",
              "      <td>0.9714</td>\n",
              "      <td>5.88</td>\n",
              "      <td>1.258740</td>\n",
              "      <td>1.2958</td>\n",
              "      <td>False</td>\n",
              "      <td>False</td>\n",
              "      <td>False</td>\n",
              "    </tr>\n",
              "    <tr>\n",
              "      <th>2000-03-01</th>\n",
              "      <td>57.7</td>\n",
              "      <td>81.0</td>\n",
              "      <td>2377402</td>\n",
              "      <td>0.759163</td>\n",
              "      <td>12549.0</td>\n",
              "      <td>0.9553</td>\n",
              "      <td>5.88</td>\n",
              "      <td>1.258226</td>\n",
              "      <td>1.3171</td>\n",
              "      <td>False</td>\n",
              "      <td>False</td>\n",
              "      <td>False</td>\n",
              "    </tr>\n",
              "    <tr>\n",
              "      <th>2000-04-01</th>\n",
              "      <td>57.6</td>\n",
              "      <td>78.0</td>\n",
              "      <td>2114395</td>\n",
              "      <td>0.582870</td>\n",
              "      <td>12480.0</td>\n",
              "      <td>0.9085</td>\n",
              "      <td>5.88</td>\n",
              "      <td>1.250641</td>\n",
              "      <td>1.3766</td>\n",
              "      <td>False</td>\n",
              "      <td>False</td>\n",
              "      <td>False</td>\n",
              "    </tr>\n",
              "    <tr>\n",
              "      <th>2000-05-01</th>\n",
              "      <td>57.6</td>\n",
              "      <td>85.0</td>\n",
              "      <td>2080391</td>\n",
              "      <td>0.633519</td>\n",
              "      <td>12514.0</td>\n",
              "      <td>0.9303</td>\n",
              "      <td>5.88</td>\n",
              "      <td>1.278232</td>\n",
              "      <td>1.3740</td>\n",
              "      <td>False</td>\n",
              "      <td>False</td>\n",
              "      <td>False</td>\n",
              "    </tr>\n",
              "    <tr>\n",
              "      <th>...</th>\n",
              "      <td>...</td>\n",
              "      <td>...</td>\n",
              "      <td>...</td>\n",
              "      <td>...</td>\n",
              "      <td>...</td>\n",
              "      <td>...</td>\n",
              "      <td>...</td>\n",
              "      <td>...</td>\n",
              "      <td>...</td>\n",
              "      <td>...</td>\n",
              "      <td>...</td>\n",
              "      <td>...</td>\n",
              "    </tr>\n",
              "    <tr>\n",
              "      <th>2022-01-01</th>\n",
              "      <td>144.5</td>\n",
              "      <td>95.8</td>\n",
              "      <td>24972743</td>\n",
              "      <td>0.834743</td>\n",
              "      <td>97045.0</td>\n",
              "      <td>1.1156</td>\n",
              "      <td>6.19</td>\n",
              "      <td>3.284897</td>\n",
              "      <td>2.9591</td>\n",
              "      <td>False</td>\n",
              "      <td>False</td>\n",
              "      <td>False</td>\n",
              "    </tr>\n",
              "    <tr>\n",
              "      <th>2022-02-01</th>\n",
              "      <td>145.0</td>\n",
              "      <td>92.6</td>\n",
              "      <td>25188219</td>\n",
              "      <td>0.708072</td>\n",
              "      <td>97883.0</td>\n",
              "      <td>1.1199</td>\n",
              "      <td>6.25</td>\n",
              "      <td>3.243495</td>\n",
              "      <td>2.9074</td>\n",
              "      <td>False</td>\n",
              "      <td>False</td>\n",
              "      <td>False</td>\n",
              "    </tr>\n",
              "    <tr>\n",
              "      <th>2022-03-01</th>\n",
              "      <td>146.2</td>\n",
              "      <td>100.3</td>\n",
              "      <td>24209796</td>\n",
              "      <td>0.769572</td>\n",
              "      <td>99055.0</td>\n",
              "      <td>1.1101</td>\n",
              "      <td>6.26</td>\n",
              "      <td>3.264173</td>\n",
              "      <td>2.9147</td>\n",
              "      <td>False</td>\n",
              "      <td>False</td>\n",
              "      <td>False</td>\n",
              "    </tr>\n",
              "    <tr>\n",
              "      <th>2022-04-01</th>\n",
              "      <td>148.2</td>\n",
              "      <td>92.6</td>\n",
              "      <td>25715075</td>\n",
              "      <td>0.713563</td>\n",
              "      <td>100243.0</td>\n",
              "      <td>1.0540</td>\n",
              "      <td>6.26</td>\n",
              "      <td>3.284897</td>\n",
              "      <td>2.9591</td>\n",
              "      <td>True</td>\n",
              "      <td>True</td>\n",
              "      <td>False</td>\n",
              "    </tr>\n",
              "    <tr>\n",
              "      <th>2022-05-01</th>\n",
              "      <td>149.5</td>\n",
              "      <td>92.6</td>\n",
              "      <td>26329963</td>\n",
              "      <td>0.713563</td>\n",
              "      <td>41184.5</td>\n",
              "      <td>1.0713</td>\n",
              "      <td>6.60</td>\n",
              "      <td>3.247058</td>\n",
              "      <td>3.0807</td>\n",
              "      <td>True</td>\n",
              "      <td>True</td>\n",
              "      <td>True</td>\n",
              "    </tr>\n",
              "  </tbody>\n",
              "</table>\n",
              "<p>269 rows × 12 columns</p>\n",
              "</div>\n",
              "      <button class=\"colab-df-convert\" onclick=\"convertToInteractive('df-23de8ffc-2159-4e44-9d56-1f986cb4b884')\"\n",
              "              title=\"Convert this dataframe to an interactive table.\"\n",
              "              style=\"display:none;\">\n",
              "        \n",
              "  <svg xmlns=\"http://www.w3.org/2000/svg\" height=\"24px\"viewBox=\"0 0 24 24\"\n",
              "       width=\"24px\">\n",
              "    <path d=\"M0 0h24v24H0V0z\" fill=\"none\"/>\n",
              "    <path d=\"M18.56 5.44l.94 2.06.94-2.06 2.06-.94-2.06-.94-.94-2.06-.94 2.06-2.06.94zm-11 1L8.5 8.5l.94-2.06 2.06-.94-2.06-.94L8.5 2.5l-.94 2.06-2.06.94zm10 10l.94 2.06.94-2.06 2.06-.94-2.06-.94-.94-2.06-.94 2.06-2.06.94z\"/><path d=\"M17.41 7.96l-1.37-1.37c-.4-.4-.92-.59-1.43-.59-.52 0-1.04.2-1.43.59L10.3 9.45l-7.72 7.72c-.78.78-.78 2.05 0 2.83L4 21.41c.39.39.9.59 1.41.59.51 0 1.02-.2 1.41-.59l7.78-7.78 2.81-2.81c.8-.78.8-2.07 0-2.86zM5.41 20L4 18.59l7.72-7.72 1.47 1.35L5.41 20z\"/>\n",
              "  </svg>\n",
              "      </button>\n",
              "      \n",
              "  <style>\n",
              "    .colab-df-container {\n",
              "      display:flex;\n",
              "      flex-wrap:wrap;\n",
              "      gap: 12px;\n",
              "    }\n",
              "\n",
              "    .colab-df-convert {\n",
              "      background-color: #E8F0FE;\n",
              "      border: none;\n",
              "      border-radius: 50%;\n",
              "      cursor: pointer;\n",
              "      display: none;\n",
              "      fill: #1967D2;\n",
              "      height: 32px;\n",
              "      padding: 0 0 0 0;\n",
              "      width: 32px;\n",
              "    }\n",
              "\n",
              "    .colab-df-convert:hover {\n",
              "      background-color: #E2EBFA;\n",
              "      box-shadow: 0px 1px 2px rgba(60, 64, 67, 0.3), 0px 1px 3px 1px rgba(60, 64, 67, 0.15);\n",
              "      fill: #174EA6;\n",
              "    }\n",
              "\n",
              "    [theme=dark] .colab-df-convert {\n",
              "      background-color: #3B4455;\n",
              "      fill: #D2E3FC;\n",
              "    }\n",
              "\n",
              "    [theme=dark] .colab-df-convert:hover {\n",
              "      background-color: #434B5C;\n",
              "      box-shadow: 0px 1px 3px 1px rgba(0, 0, 0, 0.15);\n",
              "      filter: drop-shadow(0px 1px 2px rgba(0, 0, 0, 0.3));\n",
              "      fill: #FFFFFF;\n",
              "    }\n",
              "  </style>\n",
              "\n",
              "      <script>\n",
              "        const buttonEl =\n",
              "          document.querySelector('#df-23de8ffc-2159-4e44-9d56-1f986cb4b884 button.colab-df-convert');\n",
              "        buttonEl.style.display =\n",
              "          google.colab.kernel.accessAllowed ? 'block' : 'none';\n",
              "\n",
              "        async function convertToInteractive(key) {\n",
              "          const element = document.querySelector('#df-23de8ffc-2159-4e44-9d56-1f986cb4b884');\n",
              "          const dataTable =\n",
              "            await google.colab.kernel.invokeFunction('convertToInteractive',\n",
              "                                                     [key], {});\n",
              "          if (!dataTable) return;\n",
              "\n",
              "          const docLinkHtml = 'Like what you see? Visit the ' +\n",
              "            '<a target=\"_blank\" href=https://colab.research.google.com/notebooks/data_table.ipynb>data table notebook</a>'\n",
              "            + ' to learn more about interactive tables.';\n",
              "          element.innerHTML = '';\n",
              "          dataTable['output_type'] = 'display_data';\n",
              "          await google.colab.output.renderOutput(dataTable, element);\n",
              "          const docLink = document.createElement('div');\n",
              "          docLink.innerHTML = docLinkHtml;\n",
              "          element.appendChild(docLink);\n",
              "        }\n",
              "      </script>\n",
              "    </div>\n",
              "  </div>\n",
              "  "
            ]
          },
          "metadata": {},
          "execution_count": 2
        }
      ]
    },
    {
      "cell_type": "code",
      "source": [
        "for x in ['IPI']:\n",
        "    q75,q25 = np.percentile(df.loc[:,x],[75,25])\n",
        "    intr_qr = q75-q25\n",
        " \n",
        "    max = q75+(1.5*intr_qr)\n",
        "    min = q25-(1.5*intr_qr)\n",
        " \n",
        "    df.loc[df[x] < min,x] = np.nan\n",
        "    df.loc[df[x] > max,x] = np.nan\n",
        "for x in ['Balance Commerciale']:\n",
        "    q75,q25 = np.percentile(df.loc[:,x],[75,25])\n",
        "    intr_qr = q75-q25\n",
        " \n",
        "    max = q75+(1.5*intr_qr)\n",
        "    min = q25-(1.5*intr_qr)\n",
        " \n",
        "    df.loc[df[x] < min,x] = np.nan\n",
        "    df.loc[df[x] > max,x] = np.nan\n",
        "for x in ['Taux dinteret']:\n",
        "    q75,q25 = np.percentile(df.loc[:,x],[75,25])\n",
        "    intr_qr = q75-q25\n",
        " \n",
        "    max = q75+(1.5*intr_qr)\n",
        "    min = q25-(1.5*intr_qr)\n",
        " \n",
        "    df.loc[df[x] < min,x] = np.nan\n",
        "    df.loc[df[x] > max,x] = np.nan\n",
        "print(df.isnull().sum())\n"
      ],
      "metadata": {
        "colab": {
          "base_uri": "https://localhost:8080/"
        },
        "id": "PKZtEZnqn3dh",
        "outputId": "52831dc8-b483-4104-bc99-adf84e9f4208"
      },
      "execution_count": 3,
      "outputs": [
        {
          "output_type": "stream",
          "name": "stdout",
          "text": [
            "CPI                              0\n",
            "IPI                              2\n",
            "Reserves                         0\n",
            "Balance Commerciale              2\n",
            "M3                               0\n",
            "Exchange_rate (dollar/Euro)      0\n",
            "Taux dinteret                    8\n",
            "Exchange1                        0\n",
            "Exchange2                        0\n",
            "IPI_ismissing                    0\n",
            "Balance Commerciale_ismissing    0\n",
            "M3_ismissing                     0\n",
            "dtype: int64\n"
          ]
        }
      ]
    },
    {
      "cell_type": "code",
      "source": [
        "df = df.dropna(axis = 0)\n",
        "X=df.iloc[:,[0,1,2,3,4,5,6,7]]\n",
        "X.isnull().sum()"
      ],
      "metadata": {
        "colab": {
          "base_uri": "https://localhost:8080/"
        },
        "id": "dT96b0JAn4L4",
        "outputId": "96abfa8e-c710-4e28-805c-ee67615aa3f8"
      },
      "execution_count": 4,
      "outputs": [
        {
          "output_type": "execute_result",
          "data": {
            "text/plain": [
              "CPI                            0\n",
              "IPI                            0\n",
              "Reserves                       0\n",
              "Balance Commerciale            0\n",
              "M3                             0\n",
              "Exchange_rate (dollar/Euro)    0\n",
              "Taux dinteret                  0\n",
              "Exchange1                      0\n",
              "dtype: int64"
            ]
          },
          "metadata": {},
          "execution_count": 4
        }
      ]
    },
    {
      "cell_type": "code",
      "source": [
        "from matplotlib import pyplot as plt\n",
        "fig, axs = plt.subplots(4, 2,figsize=(15,15))\n",
        "axs[0, 0].boxplot(X['CPI'])\n",
        "axs[0, 0].set_title('CPI')\n",
        "axs[0, 1].boxplot(X['IPI'])\n",
        "axs[0, 1].set_title('IPI')\n",
        "axs[1, 0].boxplot(X['Reserves'])\n",
        "axs[1, 0].set_title('RESERVES')\n",
        "axs[1, 1].boxplot(X['Balance Commerciale'])\n",
        "axs[1, 1].set_title('Balance Commerciale')\n",
        "axs[2, 0].boxplot(X['M3'])\n",
        "axs[2, 0].set_title('M3')\n",
        "axs[2, 1].boxplot(X['Exchange_rate (dollar/Euro)'])\n",
        "axs[2, 1].set_title('Exchange_rate (dollar/Euro)')\n",
        "axs[3, 0].boxplot(X['Taux dinteret'])\n",
        "axs[3, 0].set_title('Taux dinteret')\n",
        "axs[3, 1].boxplot(X['Exchange1'])\n",
        "axs[3, 1].set_title('Exchange1')"
      ],
      "metadata": {
        "colab": {
          "base_uri": "https://localhost:8080/",
          "height": 896
        },
        "id": "hJtYxEifn9QJ",
        "outputId": "aa7bcff0-fe1b-438a-e2e5-6b2615934e11"
      },
      "execution_count": 5,
      "outputs": [
        {
          "output_type": "execute_result",
          "data": {
            "text/plain": [
              "Text(0.5, 1.0, 'Exchange1')"
            ]
          },
          "metadata": {},
          "execution_count": 5
        },
        {
          "output_type": "display_data",
          "data": {
            "text/plain": [
              "<Figure size 1080x1080 with 8 Axes>"
            ],
            "image/png": "[encoded data removed]"
          },
          "metadata": {
            "needs_background": "light"
          }
        }
      ]
    },
    {
      "cell_type": "code",
      "source": [
        "for x in ['IPI']:\n",
        "    q75,q25 = np.percentile(df.loc[:,x],[75,25])\n",
        "    intr_qr = q75-q25\n",
        " \n",
        "    max = q75+(1.5*intr_qr)\n",
        "    min = q25-(1.5*intr_qr)\n",
        " \n",
        "    df.loc[df[x] < min,x] = np.nan\n",
        "    df.loc[df[x] > max,x] = np.nan\n",
        "for x in ['Exchange1']:\n",
        "    q75,q25 = np.percentile(df.loc[:,x],[75,25])\n",
        "    intr_qr = q75-q25\n",
        " \n",
        "    max = q75+(1.5*intr_qr)\n",
        "    min = q25-(1.5*intr_qr)\n",
        " \n",
        "    df.loc[df[x] < min,x] = np.nan\n",
        "    df.loc[df[x] > max,x] = np.nan\n",
        "for x in ['Taux dinteret']:\n",
        "    q75,q25 = np.percentile(df.loc[:,x],[75,25])\n",
        "    intr_qr = q75-q25\n",
        " \n",
        "    max = q75+(1.5*intr_qr)\n",
        "    min = q25-(1.5*intr_qr)\n",
        " \n",
        "    df.loc[df[x] < min,x] = np.nan\n",
        "    df.loc[df[x] > max,x] = np.nan\n",
        "print(df.isnull().sum())\n"
      ],
      "metadata": {
        "colab": {
          "base_uri": "https://localhost:8080/"
        },
        "id": "nIuog8wNn-EJ",
        "outputId": "dd4bfaa9-9ca2-466c-c802-b12bde025a67"
      },
      "execution_count": 6,
      "outputs": [
        {
          "output_type": "stream",
          "name": "stdout",
          "text": [
            "CPI                              0\n",
            "IPI                              1\n",
            "Reserves                         0\n",
            "Balance Commerciale              0\n",
            "M3                               0\n",
            "Exchange_rate (dollar/Euro)      0\n",
            "Taux dinteret                    4\n",
            "Exchange1                        6\n",
            "Exchange2                        0\n",
            "IPI_ismissing                    0\n",
            "Balance Commerciale_ismissing    0\n",
            "M3_ismissing                     0\n",
            "dtype: int64\n"
          ]
        },
        {
          "output_type": "stream",
          "name": "stderr",
          "text": [
            "/usr/local/lib/python3.7/dist-packages/pandas/core/indexing.py:1817: SettingWithCopyWarning: \n",
            "A value is trying to be set on a copy of a slice from a DataFrame.\n",
            "Try using .loc[row_indexer,col_indexer] = value instead\n",
            "\n",
            "See the caveats in the documentation: https://pandas.pydata.org/pandas-docs/stable/user_guide/indexing.html#returning-a-view-versus-a-copy\n",
            "  self._setitem_single_column(loc, value, pi)\n"
          ]
        }
      ]
    },
    {
      "cell_type": "code",
      "source": [
        "df = df.dropna(axis = 0)\n",
        "X=df.iloc[:,[0,1,2,3,4,5,6,7]]\n",
        "X.isnull().sum()"
      ],
      "metadata": {
        "colab": {
          "base_uri": "https://localhost:8080/"
        },
        "id": "Y1aWmzKuoD96",
        "outputId": "3a223eac-a345-453a-d446-819b2ed51aeb"
      },
      "execution_count": 7,
      "outputs": [
        {
          "output_type": "execute_result",
          "data": {
            "text/plain": [
              "CPI                            0\n",
              "IPI                            0\n",
              "Reserves                       0\n",
              "Balance Commerciale            0\n",
              "M3                             0\n",
              "Exchange_rate (dollar/Euro)    0\n",
              "Taux dinteret                  0\n",
              "Exchange1                      0\n",
              "dtype: int64"
            ]
          },
          "metadata": {},
          "execution_count": 7
        }
      ]
    },
    {
      "cell_type": "code",
      "source": [
        "from matplotlib import pyplot as plt\n",
        "fig, axs = plt.subplots(4, 2,figsize=(15,15))\n",
        "axs[0, 0].boxplot(X['CPI'])\n",
        "axs[0, 0].set_title('CPI')\n",
        "axs[0, 1].boxplot(X['IPI'])\n",
        "axs[0, 1].set_title('IPI')\n",
        "axs[1, 0].boxplot(X['Reserves'])\n",
        "axs[1, 0].set_title('RESERVES')\n",
        "axs[1, 1].boxplot(X['Balance Commerciale'])\n",
        "axs[1, 1].set_title('Balance Commerciale')\n",
        "axs[2, 0].boxplot(X['M3'])\n",
        "axs[2, 0].set_title('M3')\n",
        "axs[2, 1].boxplot(X['Exchange_rate (dollar/Euro)'])\n",
        "axs[2, 1].set_title('Exchange_rate (dollar/Euro)')\n",
        "axs[3, 0].boxplot(X['Taux dinteret'])\n",
        "axs[3, 0].set_title('Taux dinteret')\n",
        "axs[3, 1].boxplot(X['Exchange1'])\n",
        "axs[3, 1].set_title('Exchange1')"
      ],
      "metadata": {
        "colab": {
          "base_uri": "https://localhost:8080/",
          "height": 896
        },
        "id": "rNVKc6vgoGyY",
        "outputId": "f48f5660-57a5-4f47-e141-7d5b2ac01838"
      },
      "execution_count": 8,
      "outputs": [
        {
          "output_type": "execute_result",
          "data": {
            "text/plain": [
              "Text(0.5, 1.0, 'Exchange1')"
            ]
          },
          "metadata": {},
          "execution_count": 8
        },
        {
          "output_type": "display_data",
          "data": {
            "text/plain": [
              "<Figure size 1080x1080 with 8 Axes>"
            ],
            "image/png": "[encoded data removed]"
          },
          "metadata": {
            "needs_background": "light"
          }
        }
      ]
    },
    {
      "cell_type": "code",
      "source": [
        "\n",
        "from matplotlib import pyplot as plt\n",
        "import seaborn as sns\n",
        "fig, axs = plt.subplots(4, 2,figsize=(15,15))\n",
        "axs[0, 0].hist(df['CPI'])\n",
        "axs[0, 0].set_title('CPI')\n",
        "axs[0, 1].hist(df['IPI'])\n",
        "axs[0, 1].set_title('IPI')\n",
        "axs[1, 0].hist(df['Reserves'])\n",
        "axs[1, 0].set_title('RESERVES')\n",
        "axs[1, 1].hist(df['Balance Commerciale'])\n",
        "axs[1, 1].set_title('Balance Commerciale')\n",
        "axs[2, 0].hist(df['M3'])\n",
        "axs[2, 0].set_title('M3')\n",
        "axs[2, 1].hist(df['Exchange_rate (dollar/Euro)'])\n",
        "axs[2, 1].set_title('Exchange_rate (dollar/Euro)')\n",
        "axs[3, 0].hist(df['Taux dinteret'])\n",
        "axs[3, 0].set_title('Taux dinteret')\n",
        "axs[3, 1].hist(df['Exchange1'])\n",
        "axs[3, 1].set_title('Exchange1')"
      ],
      "metadata": {
        "colab": {
          "base_uri": "https://localhost:8080/",
          "height": 896
        },
        "id": "qo9Num8hoa5Y",
        "outputId": "1bd850de-ed77-4a81-d607-d04b91b1437a"
      },
      "execution_count": 9,
      "outputs": [
        {
          "output_type": "execute_result",
          "data": {
            "text/plain": [
              "Text(0.5, 1.0, 'Exchange1')"
            ]
          },
          "metadata": {},
          "execution_count": 9
        },
        {
          "output_type": "display_data",
          "data": {
            "text/plain": [
              "<Figure size 1080x1080 with 8 Axes>"
            ],
            "image/png": "[encoded data removed]"
          },
          "metadata": {
            "needs_background": "light"
          }
        }
      ]
    },
    {
      "cell_type": "code",
      "source": [
        "import math\n",
        "import numpy as np\n",
        "from scipy.stats import shapiro \n",
        "#perform Shapiro-Wilk test for normality\n",
        "print(shapiro(df['CPI']))\n",
        "print(shapiro(df['IPI']))\n",
        "print(shapiro(df['Reserves']))\n",
        "print(shapiro(df['Balance Commerciale']))\n",
        "print(shapiro(df['M3']))\n",
        "print(shapiro(df['Exchange_rate (dollar/Euro)']))\n",
        "print(shapiro(df['Taux dinteret']))\n",
        "print(shapiro(df['Exchange1']))"
      ],
      "metadata": {
        "colab": {
          "base_uri": "https://localhost:8080/"
        },
        "id": "L9qT5oMXoe15",
        "outputId": "c47e8f48-ad5e-413c-cf03-121e2e8169bb"
      },
      "execution_count": 10,
      "outputs": [
        {
          "output_type": "stream",
          "name": "stdout",
          "text": [
            "ShapiroResult(statistic=0.9031597971916199, pvalue=1.68592639848697e-11)\n",
            "ShapiroResult(statistic=0.9796878099441528, pvalue=0.0013568553840741515)\n",
            "ShapiroResult(statistic=0.9133042693138123, pvalue=9.32344965121068e-11)\n",
            "ShapiroResult(statistic=0.9934659004211426, pvalue=0.3587811589241028)\n",
            "ShapiroResult(statistic=0.9140382409095764, pvalue=1.0604168931838132e-10)\n",
            "ShapiroResult(statistic=0.9803771376609802, pvalue=0.0017604429740458727)\n",
            "ShapiroResult(statistic=0.9762112498283386, pvalue=0.0003817098622675985)\n",
            "ShapiroResult(statistic=0.9006466269493103, pvalue=1.1242276207190649e-11)\n"
          ]
        }
      ]
    },
    {
      "cell_type": "code",
      "source": [
        "from scipy.stats import kstest\n",
        "#perform Kolmogorov-Smirnov test for normality\n",
        "print(kstest(df['CPI'],'norm'))\n",
        "print(kstest(df['IPI'],'norm'))\n",
        "print(kstest(df['Reserves'],'norm'))\n",
        "print(kstest(df['Balance Commerciale'],'norm'))\n",
        "print(kstest(df['M3'],'norm'))\n",
        "print(kstest(df['Exchange_rate (dollar/Euro)'],'norm'))\n",
        "print(kstest(df['Taux dinteret'],'norm'))\n",
        "print(kstest(df['Exchange1'],'norm'))"
      ],
      "metadata": {
        "colab": {
          "base_uri": "https://localhost:8080/"
        },
        "id": "hSyHeoiIofgh",
        "outputId": "c99bf64b-5e52-4212-ce5f-43e4aab0f4fa"
      },
      "execution_count": 11,
      "outputs": [
        {
          "output_type": "stream",
          "name": "stdout",
          "text": [
            "KstestResult(statistic=1.0, pvalue=0.0)\n",
            "KstestResult(statistic=1.0, pvalue=0.0)\n",
            "KstestResult(statistic=1.0, pvalue=0.0)\n",
            "KstestResult(statistic=0.7082596597307466, pvalue=8.415854646020217e-125)\n",
            "KstestResult(statistic=1.0, pvalue=0.0)\n",
            "KstestResult(statistic=0.8000220508692671, pvalue=5.3481018960976945e-170)\n",
            "KstestResult(statistic=0.9992111543056245, pvalue=0.0)\n",
            "KstestResult(statistic=0.8933800728140544, pvalue=1.634815930506448e-239)\n"
          ]
        }
      ]
    },
    {
      "cell_type": "code",
      "source": [
        "# import modules\n",
        "import matplotlib.pyplot as mp\n",
        "import seaborn as sns\n",
        "import pandas as pd\n",
        "from scipy.stats import spearmanr\n",
        "L=[]\n",
        "for i in range (8):\n",
        "  for j in range (8):\n",
        "    corr , _ = spearmanr(df.iloc[:,i], df.iloc[:,j])\n",
        "    L.append(corr)\n",
        "print(len(L))\n",
        "# new_data_base\n",
        "d = {\n",
        "    \"CPI\": [L[p] for p in range(8)],\n",
        "    \"IPI\":  [L[p] for p in range(8,16)],\n",
        "    \"Reserves\":  [L[p] for p in range(16,24)],\n",
        "    \"Balance Commerciale\":  [L[p] for p in range(24,32)],\n",
        "    \"M3\": [L[p] for p in range(32,40)],\n",
        "    \"Exchange_rate(dollar/Euro)\": [L[p] for p in range(40,48)],\n",
        "    \"Taux dinteret\": [L[p] for p in range(48,56)],\n",
        "    \"Exchange1\":[L[p] for p in range(56,64)],\n",
        "}\n",
        "df3 = pd.DataFrame(data=d)\n",
        "index_=df.index.to_list()\n",
        "df3.to_excel(\"df3.xlsx\")"
      ],
      "metadata": {
        "colab": {
          "base_uri": "https://localhost:8080/"
        },
        "id": "EzyIYTipoO5i",
        "outputId": "4cb765d9-2e98-4be4-aaf6-4a727139fbb9"
      },
      "execution_count": 12,
      "outputs": [
        {
          "output_type": "stream",
          "name": "stdout",
          "text": [
            "64\n"
          ]
        }
      ]
    },
    {
      "cell_type": "code",
      "source": [
        "# Data scalling\n",
        "from sklearn.model_selection import train_test_split\n",
        "from sklearn.preprocessing import MinMaxScaler\n",
        "X=df.iloc[:,[0,1,2,3,4,5,6,7]]\n",
        "df2=MinMaxScaler().fit_transform(X)\n",
        "df2=pd.DataFrame(data=df2)\n",
        "df2"
      ],
      "metadata": {
        "colab": {
          "base_uri": "https://localhost:8080/",
          "height": 424
        },
        "id": "m0q27tVzokCx",
        "outputId": "eac840c6-12c0-404c-8cd0-d3031ee5ecca"
      },
      "execution_count": 13,
      "outputs": [
        {
          "output_type": "execute_result",
          "data": {
            "text/plain": [
              "            0         1         2         3         4         5         6  \\\n",
              "0    0.000000  0.090909  0.046003  0.471197  0.000160  0.185801  0.649165   \n",
              "1    0.001088  0.121212  0.027164  0.540581  0.000365  0.175389  0.649165   \n",
              "2    0.001088  0.181818  0.020488  0.566485  0.000786  0.153617  0.649165   \n",
              "3    0.000000  0.090909  0.009732  0.114522  0.000000  0.090331  0.649165   \n",
              "4    0.000000  0.303030  0.008342  0.244370  0.000387  0.119811  0.649165   \n",
              "..        ...       ...       ...       ...       ...       ...       ...   \n",
              "241  0.945593  0.630303  0.944498  0.760248  0.963561  0.370385  0.723150   \n",
              "242  0.951034  0.533333  0.953310  0.435503  0.973109  0.376200  0.737470   \n",
              "243  0.964091  0.766667  0.913298  0.593170  0.986464  0.362948  0.739857   \n",
              "244  0.985854  0.533333  0.974855  0.449580  1.000000  0.287086  0.739857   \n",
              "245  1.000000  0.533333  1.000000  0.449580  0.327068  0.310480  0.821002   \n",
              "\n",
              "            7  \n",
              "0    0.001987  \n",
              "1    0.006743  \n",
              "2    0.006496  \n",
              "3    0.002852  \n",
              "4    0.016108  \n",
              "..        ...  \n",
              "241  0.980226  \n",
              "242  0.960334  \n",
              "243  0.970269  \n",
              "244  0.980226  \n",
              "245  0.962046  \n",
              "\n",
              "[246 rows x 8 columns]"
            ],
            "text/html": [
              "\n",
              "  <div id=\"df-b14be7f7-541a-4b36-a17d-46dc8a7963d6\">\n",
              "    <div class=\"colab-df-container\">\n",
              "      <div>\n",
              "<style scoped>\n",
              "    .dataframe tbody tr th:only-of-type {\n",
              "        vertical-align: middle;\n",
              "    }\n",
              "\n",
              "    .dataframe tbody tr th {\n",
              "        vertical-align: top;\n",
              "    }\n",
              "\n",
              "    .dataframe thead th {\n",
              "        text-align: right;\n",
              "    }\n",
              "</style>\n",
              "<table border=\"1\" class=\"dataframe\">\n",
              "  <thead>\n",
              "    <tr style=\"text-align: right;\">\n",
              "      <th></th>\n",
              "      <th>0</th>\n",
              "      <th>1</th>\n",
              "      <th>2</th>\n",
              "      <th>3</th>\n",
              "      <th>4</th>\n",
              "      <th>5</th>\n",
              "      <th>6</th>\n",
              "      <th>7</th>\n",
              "    </tr>\n",
              "  </thead>\n",
              "  <tbody>\n",
              "    <tr>\n",
              "      <th>0</th>\n",
              "      <td>0.000000</td>\n",
              "      <td>0.090909</td>\n",
              "      <td>0.046003</td>\n",
              "      <td>0.471197</td>\n",
              "      <td>0.000160</td>\n",
              "      <td>0.185801</td>\n",
              "      <td>0.649165</td>\n",
              "      <td>0.001987</td>\n",
              "    </tr>\n",
              "    <tr>\n",
              "      <th>1</th>\n",
              "      <td>0.001088</td>\n",
              "      <td>0.121212</td>\n",
              "      <td>0.027164</td>\n",
              "      <td>0.540581</td>\n",
              "      <td>0.000365</td>\n",
              "      <td>0.175389</td>\n",
              "      <td>0.649165</td>\n",
              "      <td>0.006743</td>\n",
              "    </tr>\n",
              "    <tr>\n",
              "      <th>2</th>\n",
              "      <td>0.001088</td>\n",
              "      <td>0.181818</td>\n",
              "      <td>0.020488</td>\n",
              "      <td>0.566485</td>\n",
              "      <td>0.000786</td>\n",
              "      <td>0.153617</td>\n",
              "      <td>0.649165</td>\n",
              "      <td>0.006496</td>\n",
              "    </tr>\n",
              "    <tr>\n",
              "      <th>3</th>\n",
              "      <td>0.000000</td>\n",
              "      <td>0.090909</td>\n",
              "      <td>0.009732</td>\n",
              "      <td>0.114522</td>\n",
              "      <td>0.000000</td>\n",
              "      <td>0.090331</td>\n",
              "      <td>0.649165</td>\n",
              "      <td>0.002852</td>\n",
              "    </tr>\n",
              "    <tr>\n",
              "      <th>4</th>\n",
              "      <td>0.000000</td>\n",
              "      <td>0.303030</td>\n",
              "      <td>0.008342</td>\n",
              "      <td>0.244370</td>\n",
              "      <td>0.000387</td>\n",
              "      <td>0.119811</td>\n",
              "      <td>0.649165</td>\n",
              "      <td>0.016108</td>\n",
              "    </tr>\n",
              "    <tr>\n",
              "      <th>...</th>\n",
              "      <td>...</td>\n",
              "      <td>...</td>\n",
              "      <td>...</td>\n",
              "      <td>...</td>\n",
              "      <td>...</td>\n",
              "      <td>...</td>\n",
              "      <td>...</td>\n",
              "      <td>...</td>\n",
              "    </tr>\n",
              "    <tr>\n",
              "      <th>241</th>\n",
              "      <td>0.945593</td>\n",
              "      <td>0.630303</td>\n",
              "      <td>0.944498</td>\n",
              "      <td>0.760248</td>\n",
              "      <td>0.963561</td>\n",
              "      <td>0.370385</td>\n",
              "      <td>0.723150</td>\n",
              "      <td>0.980226</td>\n",
              "    </tr>\n",
              "    <tr>\n",
              "      <th>242</th>\n",
              "      <td>0.951034</td>\n",
              "      <td>0.533333</td>\n",
              "      <td>0.953310</td>\n",
              "      <td>0.435503</td>\n",
              "      <td>0.973109</td>\n",
              "      <td>0.376200</td>\n",
              "      <td>0.737470</td>\n",
              "      <td>0.960334</td>\n",
              "    </tr>\n",
              "    <tr>\n",
              "      <th>243</th>\n",
              "      <td>0.964091</td>\n",
              "      <td>0.766667</td>\n",
              "      <td>0.913298</td>\n",
              "      <td>0.593170</td>\n",
              "      <td>0.986464</td>\n",
              "      <td>0.362948</td>\n",
              "      <td>0.739857</td>\n",
              "      <td>0.970269</td>\n",
              "    </tr>\n",
              "    <tr>\n",
              "      <th>244</th>\n",
              "      <td>0.985854</td>\n",
              "      <td>0.533333</td>\n",
              "      <td>0.974855</td>\n",
              "      <td>0.449580</td>\n",
              "      <td>1.000000</td>\n",
              "      <td>0.287086</td>\n",
              "      <td>0.739857</td>\n",
              "      <td>0.980226</td>\n",
              "    </tr>\n",
              "    <tr>\n",
              "      <th>245</th>\n",
              "      <td>1.000000</td>\n",
              "      <td>0.533333</td>\n",
              "      <td>1.000000</td>\n",
              "      <td>0.449580</td>\n",
              "      <td>0.327068</td>\n",
              "      <td>0.310480</td>\n",
              "      <td>0.821002</td>\n",
              "      <td>0.962046</td>\n",
              "    </tr>\n",
              "  </tbody>\n",
              "</table>\n",
              "<p>246 rows × 8 columns</p>\n",
              "</div>\n",
              "      <button class=\"colab-df-convert\" onclick=\"convertToInteractive('df-b14be7f7-541a-4b36-a17d-46dc8a7963d6')\"\n",
              "              title=\"Convert this dataframe to an interactive table.\"\n",
              "              style=\"display:none;\">\n",
              "        \n",
              "  <svg xmlns=\"http://www.w3.org/2000/svg\" height=\"24px\"viewBox=\"0 0 24 24\"\n",
              "       width=\"24px\">\n",
              "    <path d=\"M0 0h24v24H0V0z\" fill=\"none\"/>\n",
              "    <path d=\"M18.56 5.44l.94 2.06.94-2.06 2.06-.94-2.06-.94-.94-2.06-.94 2.06-2.06.94zm-11 1L8.5 8.5l.94-2.06 2.06-.94-2.06-.94L8.5 2.5l-.94 2.06-2.06.94zm10 10l.94 2.06.94-2.06 2.06-.94-2.06-.94-.94-2.06-.94 2.06-2.06.94z\"/><path d=\"M17.41 7.96l-1.37-1.37c-.4-.4-.92-.59-1.43-.59-.52 0-1.04.2-1.43.59L10.3 9.45l-7.72 7.72c-.78.78-.78 2.05 0 2.83L4 21.41c.39.39.9.59 1.41.59.51 0 1.02-.2 1.41-.59l7.78-7.78 2.81-2.81c.8-.78.8-2.07 0-2.86zM5.41 20L4 18.59l7.72-7.72 1.47 1.35L5.41 20z\"/>\n",
              "  </svg>\n",
              "      </button>\n",
              "      \n",
              "  <style>\n",
              "    .colab-df-container {\n",
              "      display:flex;\n",
              "      flex-wrap:wrap;\n",
              "      gap: 12px;\n",
              "    }\n",
              "\n",
              "    .colab-df-convert {\n",
              "      background-color: #E8F0FE;\n",
              "      border: none;\n",
              "      border-radius: 50%;\n",
              "      cursor: pointer;\n",
              "      display: none;\n",
              "      fill: #1967D2;\n",
              "      height: 32px;\n",
              "      padding: 0 0 0 0;\n",
              "      width: 32px;\n",
              "    }\n",
              "\n",
              "    .colab-df-convert:hover {\n",
              "      background-color: #E2EBFA;\n",
              "      box-shadow: 0px 1px 2px rgba(60, 64, 67, 0.3), 0px 1px 3px 1px rgba(60, 64, 67, 0.15);\n",
              "      fill: #174EA6;\n",
              "    }\n",
              "\n",
              "    [theme=dark] .colab-df-convert {\n",
              "      background-color: #3B4455;\n",
              "      fill: #D2E3FC;\n",
              "    }\n",
              "\n",
              "    [theme=dark] .colab-df-convert:hover {\n",
              "      background-color: #434B5C;\n",
              "      box-shadow: 0px 1px 3px 1px rgba(0, 0, 0, 0.15);\n",
              "      filter: drop-shadow(0px 1px 2px rgba(0, 0, 0, 0.3));\n",
              "      fill: #FFFFFF;\n",
              "    }\n",
              "  </style>\n",
              "\n",
              "      <script>\n",
              "        const buttonEl =\n",
              "          document.querySelector('#df-b14be7f7-541a-4b36-a17d-46dc8a7963d6 button.colab-df-convert');\n",
              "        buttonEl.style.display =\n",
              "          google.colab.kernel.accessAllowed ? 'block' : 'none';\n",
              "\n",
              "        async function convertToInteractive(key) {\n",
              "          const element = document.querySelector('#df-b14be7f7-541a-4b36-a17d-46dc8a7963d6');\n",
              "          const dataTable =\n",
              "            await google.colab.kernel.invokeFunction('convertToInteractive',\n",
              "                                                     [key], {});\n",
              "          if (!dataTable) return;\n",
              "\n",
              "          const docLinkHtml = 'Like what you see? Visit the ' +\n",
              "            '<a target=\"_blank\" href=https://colab.research.google.com/notebooks/data_table.ipynb>data table notebook</a>'\n",
              "            + ' to learn more about interactive tables.';\n",
              "          element.innerHTML = '';\n",
              "          dataTable['output_type'] = 'display_data';\n",
              "          await google.colab.output.renderOutput(dataTable, element);\n",
              "          const docLink = document.createElement('div');\n",
              "          docLink.innerHTML = docLinkHtml;\n",
              "          element.appendChild(docLink);\n",
              "        }\n",
              "      </script>\n",
              "    </div>\n",
              "  </div>\n",
              "  "
            ]
          },
          "metadata": {},
          "execution_count": 13
        }
      ]
    },
    {
      "cell_type": "code",
      "source": [
        "# new_data_base\n",
        "d = {\n",
        "    \"CPI\": [df2[0][p] for p in range(df2.shape[0])],\n",
        "    \"IPI\": [df2[1][p] for p in range(df2.shape[0])],\n",
        "    \"Reserves\": [df2[2][p] for p in range(df2.shape[0])],\n",
        "    \"Balance Commerciale\": [df2[3][p] for p in range(df2.shape[0])],\n",
        "    \"M3\": [df2[4][p] for p in range(df2.shape[0])],\n",
        "    \"Exchange_rate(dollar/Euro)\": [df2[5][p] for p in range(df2.shape[0])],\n",
        "    \"Taux dinteret\": [df2[6][p] for p in range(df2.shape[0])],\n",
        "    \"Exchange1\": [df2[7][p] for p in range(df2.shape[0])],\n",
        "}\n",
        "df2 = pd.DataFrame(data=d)\n",
        "index_=df.index.to_list()\n",
        "df2.index = index_\n",
        "df2.head()"
      ],
      "metadata": {
        "colab": {
          "base_uri": "https://localhost:8080/",
          "height": 354
        },
        "id": "40ZMCjdiooM4",
        "outputId": "93e61624-4572-4137-c92f-3be1c0ceed45"
      },
      "execution_count": 14,
      "outputs": [
        {
          "output_type": "execute_result",
          "data": {
            "text/plain": [
              "                 CPI       IPI  Reserves  Balance Commerciale        M3  \\\n",
              "2000-01-01  0.000000  0.090909  0.046003             0.471197  0.000160   \n",
              "2000-02-01  0.001088  0.121212  0.027164             0.540581  0.000365   \n",
              "2000-03-01  0.001088  0.181818  0.020488             0.566485  0.000786   \n",
              "2000-04-01  0.000000  0.090909  0.009732             0.114522  0.000000   \n",
              "2000-05-01  0.000000  0.303030  0.008342             0.244370  0.000387   \n",
              "\n",
              "            Exchange_rate(dollar/Euro)  Taux dinteret  Exchange1  \n",
              "2000-01-01                    0.185801       0.649165   0.001987  \n",
              "2000-02-01                    0.175389       0.649165   0.006743  \n",
              "2000-03-01                    0.153617       0.649165   0.006496  \n",
              "2000-04-01                    0.090331       0.649165   0.002852  \n",
              "2000-05-01                    0.119811       0.649165   0.016108  "
            ],
            "text/html": [
              "\n",
              "  <div id=\"df-5dba5f74-d4a2-4379-9bd3-8464d99f27bc\">\n",
              "    <div class=\"colab-df-container\">\n",
              "      <div>\n",
              "<style scoped>\n",
              "    .dataframe tbody tr th:only-of-type {\n",
              "        vertical-align: middle;\n",
              "    }\n",
              "\n",
              "    .dataframe tbody tr th {\n",
              "        vertical-align: top;\n",
              "    }\n",
              "\n",
              "    .dataframe thead th {\n",
              "        text-align: right;\n",
              "    }\n",
              "</style>\n",
              "<table border=\"1\" class=\"dataframe\">\n",
              "  <thead>\n",
              "    <tr style=\"text-align: right;\">\n",
              "      <th></th>\n",
              "      <th>CPI</th>\n",
              "      <th>IPI</th>\n",
              "      <th>Reserves</th>\n",
              "      <th>Balance Commerciale</th>\n",
              "      <th>M3</th>\n",
              "      <th>Exchange_rate(dollar/Euro)</th>\n",
              "      <th>Taux dinteret</th>\n",
              "      <th>Exchange1</th>\n",
              "    </tr>\n",
              "  </thead>\n",
              "  <tbody>\n",
              "    <tr>\n",
              "      <th>2000-01-01</th>\n",
              "      <td>0.000000</td>\n",
              "      <td>0.090909</td>\n",
              "      <td>0.046003</td>\n",
              "      <td>0.471197</td>\n",
              "      <td>0.000160</td>\n",
              "      <td>0.185801</td>\n",
              "      <td>0.649165</td>\n",
              "      <td>0.001987</td>\n",
              "    </tr>\n",
              "    <tr>\n",
              "      <th>2000-02-01</th>\n",
              "      <td>0.001088</td>\n",
              "      <td>0.121212</td>\n",
              "      <td>0.027164</td>\n",
              "      <td>0.540581</td>\n",
              "      <td>0.000365</td>\n",
              "      <td>0.175389</td>\n",
              "      <td>0.649165</td>\n",
              "      <td>0.006743</td>\n",
              "    </tr>\n",
              "    <tr>\n",
              "      <th>2000-03-01</th>\n",
              "      <td>0.001088</td>\n",
              "      <td>0.181818</td>\n",
              "      <td>0.020488</td>\n",
              "      <td>0.566485</td>\n",
              "      <td>0.000786</td>\n",
              "      <td>0.153617</td>\n",
              "      <td>0.649165</td>\n",
              "      <td>0.006496</td>\n",
              "    </tr>\n",
              "    <tr>\n",
              "      <th>2000-04-01</th>\n",
              "      <td>0.000000</td>\n",
              "      <td>0.090909</td>\n",
              "      <td>0.009732</td>\n",
              "      <td>0.114522</td>\n",
              "      <td>0.000000</td>\n",
              "      <td>0.090331</td>\n",
              "      <td>0.649165</td>\n",
              "      <td>0.002852</td>\n",
              "    </tr>\n",
              "    <tr>\n",
              "      <th>2000-05-01</th>\n",
              "      <td>0.000000</td>\n",
              "      <td>0.303030</td>\n",
              "      <td>0.008342</td>\n",
              "      <td>0.244370</td>\n",
              "      <td>0.000387</td>\n",
              "      <td>0.119811</td>\n",
              "      <td>0.649165</td>\n",
              "      <td>0.016108</td>\n",
              "    </tr>\n",
              "  </tbody>\n",
              "</table>\n",
              "</div>\n",
              "      <button class=\"colab-df-convert\" onclick=\"convertToInteractive('df-5dba5f74-d4a2-4379-9bd3-8464d99f27bc')\"\n",
              "              title=\"Convert this dataframe to an interactive table.\"\n",
              "              style=\"display:none;\">\n",
              "        \n",
              "  <svg xmlns=\"http://www.w3.org/2000/svg\" height=\"24px\"viewBox=\"0 0 24 24\"\n",
              "       width=\"24px\">\n",
              "    <path d=\"M0 0h24v24H0V0z\" fill=\"none\"/>\n",
              "    <path d=\"M18.56 5.44l.94 2.06.94-2.06 2.06-.94-2.06-.94-.94-2.06-.94 2.06-2.06.94zm-11 1L8.5 8.5l.94-2.06 2.06-.94-2.06-.94L8.5 2.5l-.94 2.06-2.06.94zm10 10l.94 2.06.94-2.06 2.06-.94-2.06-.94-.94-2.06-.94 2.06-2.06.94z\"/><path d=\"M17.41 7.96l-1.37-1.37c-.4-.4-.92-.59-1.43-.59-.52 0-1.04.2-1.43.59L10.3 9.45l-7.72 7.72c-.78.78-.78 2.05 0 2.83L4 21.41c.39.39.9.59 1.41.59.51 0 1.02-.2 1.41-.59l7.78-7.78 2.81-2.81c.8-.78.8-2.07 0-2.86zM5.41 20L4 18.59l7.72-7.72 1.47 1.35L5.41 20z\"/>\n",
              "  </svg>\n",
              "      </button>\n",
              "      \n",
              "  <style>\n",
              "    .colab-df-container {\n",
              "      display:flex;\n",
              "      flex-wrap:wrap;\n",
              "      gap: 12px;\n",
              "    }\n",
              "\n",
              "    .colab-df-convert {\n",
              "      background-color: #E8F0FE;\n",
              "      border: none;\n",
              "      border-radius: 50%;\n",
              "      cursor: pointer;\n",
              "      display: none;\n",
              "      fill: #1967D2;\n",
              "      height: 32px;\n",
              "      padding: 0 0 0 0;\n",
              "      width: 32px;\n",
              "    }\n",
              "\n",
              "    .colab-df-convert:hover {\n",
              "      background-color: #E2EBFA;\n",
              "      box-shadow: 0px 1px 2px rgba(60, 64, 67, 0.3), 0px 1px 3px 1px rgba(60, 64, 67, 0.15);\n",
              "      fill: #174EA6;\n",
              "    }\n",
              "\n",
              "    [theme=dark] .colab-df-convert {\n",
              "      background-color: #3B4455;\n",
              "      fill: #D2E3FC;\n",
              "    }\n",
              "\n",
              "    [theme=dark] .colab-df-convert:hover {\n",
              "      background-color: #434B5C;\n",
              "      box-shadow: 0px 1px 3px 1px rgba(0, 0, 0, 0.15);\n",
              "      filter: drop-shadow(0px 1px 2px rgba(0, 0, 0, 0.3));\n",
              "      fill: #FFFFFF;\n",
              "    }\n",
              "  </style>\n",
              "\n",
              "      <script>\n",
              "        const buttonEl =\n",
              "          document.querySelector('#df-5dba5f74-d4a2-4379-9bd3-8464d99f27bc button.colab-df-convert');\n",
              "        buttonEl.style.display =\n",
              "          google.colab.kernel.accessAllowed ? 'block' : 'none';\n",
              "\n",
              "        async function convertToInteractive(key) {\n",
              "          const element = document.querySelector('#df-5dba5f74-d4a2-4379-9bd3-8464d99f27bc');\n",
              "          const dataTable =\n",
              "            await google.colab.kernel.invokeFunction('convertToInteractive',\n",
              "                                                     [key], {});\n",
              "          if (!dataTable) return;\n",
              "\n",
              "          const docLinkHtml = 'Like what you see? Visit the ' +\n",
              "            '<a target=\"_blank\" href=https://colab.research.google.com/notebooks/data_table.ipynb>data table notebook</a>'\n",
              "            + ' to learn more about interactive tables.';\n",
              "          element.innerHTML = '';\n",
              "          dataTable['output_type'] = 'display_data';\n",
              "          await google.colab.output.renderOutput(dataTable, element);\n",
              "          const docLink = document.createElement('div');\n",
              "          docLink.innerHTML = docLinkHtml;\n",
              "          element.appendChild(docLink);\n",
              "        }\n",
              "      </script>\n",
              "    </div>\n",
              "  </div>\n",
              "  "
            ]
          },
          "metadata": {},
          "execution_count": 14
        }
      ]
    },
    {
      "cell_type": "code",
      "source": [
        "# linear regression feature importance\n",
        "from sklearn.datasets import make_regression\n",
        "from sklearn.linear_model import LinearRegression\n",
        "import matplotlib.pyplot as plt\n",
        "# define dataset\n",
        "X=df2.iloc[:,[0,1,2,3,4,5,6]]\n",
        "y=df2.iloc[:,7]\n",
        "# define the model\n",
        "model = LinearRegression()\n",
        "# fit the model\n",
        "model.fit(X, y)\n",
        "# get importance\n",
        "importance = model.coef_\n",
        "# summarize feature importance\n",
        "for i,v in enumerate(importance):\n",
        "\tprint('Feature: %0d, Score: %.5f' % (i,v))\n",
        "# plot feature importance\n",
        "plt.bar([x for x in range(len(importance))], importance)\n",
        "plt.show()"
      ],
      "metadata": {
        "colab": {
          "base_uri": "https://localhost:8080/",
          "height": 387
        },
        "id": "YTQ5dAWQotPp",
        "outputId": "78b7b661-e1f5-4ee2-c2e2-7fb01f27b8d9"
      },
      "execution_count": 15,
      "outputs": [
        {
          "output_type": "stream",
          "name": "stdout",
          "text": [
            "Feature: 0, Score: 1.17868\n",
            "Feature: 1, Score: -0.01106\n",
            "Feature: 2, Score: -0.33158\n",
            "Feature: 3, Score: 0.00619\n",
            "Feature: 4, Score: 0.16883\n",
            "Feature: 5, Score: 0.23053\n",
            "Feature: 6, Score: 0.11976\n"
          ]
        },
        {
          "output_type": "display_data",
          "data": {
            "text/plain": [
              "<Figure size 432x288 with 1 Axes>"
            ],
            "image/png": "[encoded data removed]"
          },
          "metadata": {
            "needs_background": "light"
          }
        }
      ]
    },
    {
      "cell_type": "code",
      "source": [
        "import statsmodels.api as sm\n",
        "# define dataset\n",
        "X=df2.iloc[:,[0,3,4,5,6]]\n",
        "y=df2.iloc[:,7]\n",
        "X_train, X_test, y_train, y_test = train_test_split(X, y, test_size=0.2)\n",
        "# define the model\n",
        "model = LinearRegression()\n",
        "# fit the model\n",
        "model.fit(X_train, y_train)\n",
        "print('Intercept: \\n', model.intercept_)\n",
        "print('Coefficients: \\n', model.coef_)\n",
        "\n",
        "# with statsmodels\n",
        "x = sm.add_constant(X) # adding a constant\n",
        " \n",
        "model = sm.OLS(y_train, X_train).fit()\n",
        "predictions = model.predict(X_test) \n",
        "print_model = model.summary()\n",
        "print(print_model)"
      ],
      "metadata": {
        "colab": {
          "base_uri": "https://localhost:8080/"
        },
        "id": "1i1RDVfcov5P",
        "outputId": "ff1c993a-e34e-44ac-a652-9752d9fef1d1"
      },
      "execution_count": 16,
      "outputs": [
        {
          "output_type": "stream",
          "name": "stdout",
          "text": [
            "Intercept: \n",
            " -0.10028973848928713\n",
            "Coefficients: \n",
            " [ 0.86545393 -0.02770111  0.18776834  0.17429664  0.16759643]\n",
            "                                 OLS Regression Results                                \n",
            "=======================================================================================\n",
            "Dep. Variable:              Exchange1   R-squared (uncentered):                   0.989\n",
            "Model:                            OLS   Adj. R-squared (uncentered):              0.988\n",
            "Method:                 Least Squares   F-statistic:                              3319.\n",
            "Date:                Wed, 09 Nov 2022   Prob (F-statistic):                   1.62e-183\n",
            "Time:                        09:15:43   Log-Likelihood:                          303.63\n",
            "No. Observations:                 196   AIC:                                     -597.3\n",
            "Df Residuals:                     191   BIC:                                     -580.9\n",
            "Df Model:                           5                                                  \n",
            "Covariance Type:            nonrobust                                                  \n",
            "==============================================================================================\n",
            "                                 coef    std err          t      P>|t|      [0.025      0.975]\n",
            "----------------------------------------------------------------------------------------------\n",
            "CPI                            0.9413      0.075     12.632      0.000       0.794       1.088\n",
            "Balance Commerciale           -0.0569      0.021     -2.725      0.007      -0.098      -0.016\n",
            "M3                             0.1040      0.074      1.413      0.159      -0.041       0.249\n",
            "Exchange_rate(dollar/Euro)     0.0996      0.015      6.530      0.000       0.070       0.130\n",
            "Taux dinteret                  0.0766      0.016      4.672      0.000       0.044       0.109\n",
            "==============================================================================\n",
            "Omnibus:                       43.606   Durbin-Watson:                   1.873\n",
            "Prob(Omnibus):                  0.000   Jarque-Bera (JB):               78.385\n",
            "Skew:                           1.115   Prob(JB):                     9.53e-18\n",
            "Kurtosis:                       5.150   Cond. No.                         27.0\n",
            "==============================================================================\n",
            "\n",
            "Notes:\n",
            "[1] R² is computed without centering (uncentered) since the model does not contain a constant.\n",
            "[2] Standard Errors assume that the covariance matrix of the errors is correctly specified.\n"
          ]
        },
        {
          "output_type": "stream",
          "name": "stderr",
          "text": [
            "/usr/local/lib/python3.7/dist-packages/statsmodels/tsa/tsatools.py:142: FutureWarning: In a future version of pandas all arguments of concat except for the argument 'objs' will be keyword-only\n",
            "  x = pd.concat(x[::order], 1)\n"
          ]
        }
      ]
    },
    {
      "cell_type": "code",
      "source": [
        "import numpy as np\n",
        "from sklearn.metrics import accuracy_score\n",
        "from sklearn.metrics import mean_squared_error\n",
        "from sklearn.metrics import explained_variance_score\n",
        "from sklearn.metrics import mean_absolute_error\n",
        "k=predictions.to_list()\n",
        "t=y_test.to_list()\n",
        "arma_rmse = np.sqrt(mean_squared_error(t, k))\n",
        "print(\"RMSE: \",arma_rmse)\n",
        "arma_mse= mean_squared_error(t, k)\n",
        "print(\"MSE :\",arma_mse)\n",
        "MAE=mean_absolute_error(t,k)\n",
        "print(\"MAE :\",MAE)\n",
        "Variance=explained_variance_score(t, k)\n",
        "print(\"Variance\",Variance)"
      ],
      "metadata": {
        "colab": {
          "base_uri": "https://localhost:8080/"
        },
        "id": "PmNk9gK5pDUJ",
        "outputId": "1c133535-3c66-4bed-c1cb-982d500fc623"
      },
      "execution_count": 17,
      "outputs": [
        {
          "output_type": "stream",
          "name": "stdout",
          "text": [
            "RMSE:  0.0423554383089191\n",
            "MSE : 0.0017939831543406514\n",
            "MAE : 0.029275876283937814\n",
            "Variance 0.9773597190142644\n"
          ]
        }
      ]
    },
    {
      "cell_type": "code",
      "source": [
        "from sklearn.model_selection import cross_val_score\n",
        "from sklearn.model_selection import KFold\n",
        "# define the model\n",
        "model = LinearRegression()\n",
        "# fit the model\n",
        "model.fit(X_train, y_train)\n",
        "cv1 = KFold(n_splits=10, shuffle=True)\n",
        "scores = cross_val_score(model, X, y, cv=cv1)\n",
        "print(scores)\n",
        "# plot feature importance\n",
        "plt.bar([x for x in range(len(scores))], scores)\n",
        "plt.show()\n",
        "print(\"%0.2f accuracy with a standard deviation of %0.2f\" % (scores.mean(), scores.std()))"
      ],
      "metadata": {
        "colab": {
          "base_uri": "https://localhost:8080/",
          "height": 317
        },
        "id": "CpVggLlWpGZ4",
        "outputId": "3ff5084a-633e-41c3-c7ab-8c9e5fe02976"
      },
      "execution_count": 18,
      "outputs": [
        {
          "output_type": "stream",
          "name": "stdout",
          "text": [
            "[0.9667219  0.9728725  0.96704009 0.97125922 0.98472785 0.97668954\n",
            " 0.73975629 0.93662455 0.96532073 0.98568613]\n"
          ]
        },
        {
          "output_type": "display_data",
          "data": {
            "text/plain": [
              "<Figure size 432x288 with 1 Axes>"
            ],
            "image/png": "[encoded data removed]"
          },
          "metadata": {
            "needs_background": "light"
          }
        },
        {
          "output_type": "stream",
          "name": "stdout",
          "text": [
            "0.95 accuracy with a standard deviation of 0.07\n"
          ]
        }
      ]
    },
    {
      "cell_type": "code",
      "source": [
        "!pip install sklearn-contrib-py-earth\n",
        "!pip install git+https://github.com/scikit-learn-contrib/py-earth@v0.2dev\n",
        "from numpy import mean\n",
        "from sklearn.model_selection import cross_val_score\n",
        "from sklearn.model_selection import RepeatedKFold\n",
        "from sklearn.datasets import make_regression\n",
        "from pyearth import Earth"
      ],
      "metadata": {
        "colab": {
          "base_uri": "https://localhost:8080/"
        },
        "id": "znzxcPPhpGjm",
        "outputId": "343dd3b0-a5a6-43c7-bf0f-f647460f43f2"
      },
      "execution_count": 19,
      "outputs": [
        {
          "output_type": "stream",
          "name": "stdout",
          "text": [
            "Looking in indexes: https://pypi.org/simple, https://us-python.pkg.dev/colab-wheels/public/simple/\n",
            "Collecting sklearn-contrib-py-earth\n",
            "  Downloading sklearn-contrib-py-earth-0.1.0.tar.gz (1.0 MB)\n",
            "\u001b[K     |████████████████████████████████| 1.0 MB 24.8 MB/s \n",
            "\u001b[?25hRequirement already satisfied: scipy>=0.16 in /usr/local/lib/python3.7/dist-packages (from sklearn-contrib-py-earth) (1.7.3)\n",
            "Requirement already satisfied: scikit-learn>=0.16 in /usr/local/lib/python3.7/dist-packages (from sklearn-contrib-py-earth) (1.0.2)\n",
            "Requirement already satisfied: six in /usr/local/lib/python3.7/dist-packages (from sklearn-contrib-py-earth) (1.15.0)\n",
            "Requirement already satisfied: threadpoolctl>=2.0.0 in /usr/local/lib/python3.7/dist-packages (from scikit-learn>=0.16->sklearn-contrib-py-earth) (3.1.0)\n",
            "Requirement already satisfied: numpy>=1.14.6 in /usr/local/lib/python3.7/dist-packages (from scikit-learn>=0.16->sklearn-contrib-py-earth) (1.21.6)\n",
            "Requirement already satisfied: joblib>=0.11 in /usr/local/lib/python3.7/dist-packages (from scikit-learn>=0.16->sklearn-contrib-py-earth) (1.2.0)\n",
            "Building wheels for collected packages: sklearn-contrib-py-earth\n",
            "  Building wheel for sklearn-contrib-py-earth (setup.py) ... \u001b[?25lerror\n",
            "\u001b[31m  ERROR: Failed building wheel for sklearn-contrib-py-earth\u001b[0m\n",
            "\u001b[?25h  Running setup.py clean for sklearn-contrib-py-earth\n",
            "Failed to build sklearn-contrib-py-earth\n",
            "Installing collected packages: sklearn-contrib-py-earth\n",
            "    Running setup.py install for sklearn-contrib-py-earth ... \u001b[?25l\u001b[?25herror\n",
            "\u001b[31mERROR: Command errored out with exit status 1: /usr/bin/python3 -u -c 'import io, os, sys, setuptools, tokenize; sys.argv[0] = '\"'\"'/tmp/pip-install-_dtp9d8m/sklearn-contrib-py-earth_010c22bcd09740238a37498023caf5ba/setup.py'\"'\"'; __file__='\"'\"'/tmp/pip-install-_dtp9d8m/sklearn-contrib-py-earth_010c22bcd09740238a37498023caf5ba/setup.py'\"'\"';f = getattr(tokenize, '\"'\"'open'\"'\"', open)(__file__) if os.path.exists(__file__) else io.StringIO('\"'\"'from setuptools import setup; setup()'\"'\"');code = f.read().replace('\"'\"'\\r\\n'\"'\"', '\"'\"'\\n'\"'\"');f.close();exec(compile(code, __file__, '\"'\"'exec'\"'\"'))' install --record /tmp/pip-record-bh5bio61/install-record.txt --single-version-externally-managed --compile --install-headers /usr/local/include/python3.7/sklearn-contrib-py-earth Check the logs for full command output.\u001b[0m\n",
            "Looking in indexes: https://pypi.org/simple, https://us-python.pkg.dev/colab-wheels/public/simple/\n",
            "Collecting git+https://github.com/scikit-learn-contrib/py-earth@v0.2dev\n",
            "  Cloning https://github.com/scikit-learn-contrib/py-earth (to revision v0.2dev) to /tmp/pip-req-build-a68k9ozp\n",
            "  Running command git clone -q https://github.com/scikit-learn-contrib/py-earth /tmp/pip-req-build-a68k9ozp\n",
            "  Running command git checkout -b v0.2dev --track origin/v0.2dev\n",
            "  Switched to a new branch 'v0.2dev'\n",
            "  Branch 'v0.2dev' set up to track remote branch 'v0.2dev' from 'origin'.\n",
            "Requirement already satisfied: scipy>=0.16 in /usr/local/lib/python3.7/dist-packages (from sklearn-contrib-py-earth==0.1.0+16.g400f84d) (1.7.3)\n",
            "Requirement already satisfied: scikit-learn>=0.16 in /usr/local/lib/python3.7/dist-packages (from sklearn-contrib-py-earth==0.1.0+16.g400f84d) (1.0.2)\n",
            "Requirement already satisfied: six in /usr/local/lib/python3.7/dist-packages (from sklearn-contrib-py-earth==0.1.0+16.g400f84d) (1.15.0)\n",
            "Requirement already satisfied: threadpoolctl>=2.0.0 in /usr/local/lib/python3.7/dist-packages (from scikit-learn>=0.16->sklearn-contrib-py-earth==0.1.0+16.g400f84d) (3.1.0)\n",
            "Requirement already satisfied: joblib>=0.11 in /usr/local/lib/python3.7/dist-packages (from scikit-learn>=0.16->sklearn-contrib-py-earth==0.1.0+16.g400f84d) (1.2.0)\n",
            "Requirement already satisfied: numpy>=1.14.6 in /usr/local/lib/python3.7/dist-packages (from scikit-learn>=0.16->sklearn-contrib-py-earth==0.1.0+16.g400f84d) (1.21.6)\n",
            "Building wheels for collected packages: sklearn-contrib-py-earth\n",
            "  Building wheel for sklearn-contrib-py-earth (setup.py) ... \u001b[?25l\u001b[?25hdone\n",
            "  Created wheel for sklearn-contrib-py-earth: filename=sklearn_contrib_py_earth-0.1.0+16.g400f84d-cp37-cp37m-linux_x86_64.whl size=3997288 sha256=4874a7901d25b9ec6fe299c6f44f963b150c3b7d6de872efe7ae968f51858a08\n",
            "  Stored in directory: /tmp/pip-ephem-wheel-cache-s1vabmei/wheels/79/d7/aa/1e418a9aea84424ef2ce2697ae7cccace322976388d3692e8e\n",
            "Successfully built sklearn-contrib-py-earth\n",
            "Installing collected packages: sklearn-contrib-py-earth\n",
            "Successfully installed sklearn-contrib-py-earth-0.1.0+16.g400f84d\n"
          ]
        }
      ]
    },
    {
      "cell_type": "code",
      "source": [
        "import pandas as pd # for data manipulation\n",
        "import numpy as np # for data manipulation\n",
        "from sklearn.linear_model import LinearRegression # for building a linear regression model\n",
        "from pyearth import Earth # for building a MARS model\n",
        "import plotly.graph_objects as go # for data visualization\n",
        "import plotly.express as px # for data visualization"
      ],
      "metadata": {
        "id": "iFQxtv6mpMuh"
      },
      "execution_count": 20,
      "outputs": []
    },
    {
      "cell_type": "code",
      "source": [
        "# --- Select variables to use in the two models --- \n",
        "# Note, we need X to be a 2D array, hence reshape\n",
        "X=df2.iloc[:,[0,1,2,3,5,6]]\n",
        "y=df2.iloc[:,7]\n",
        "X_train, X_test, y_train, y_test = train_test_split(X, y, test_size=0.2)\n",
        "# --- Define and fit the two models ---\n",
        "model2 = Earth(max_terms=500, max_degree=1) # note, terms in brackets are the hyperparameters \n",
        "MARS = model2.fit(X_train, y_train)\n",
        "print(model2.summary_feature_importances(sort_by='gcv'))\n",
        "\n",
        "# --- Print model summary ---\n",
        "# LR\n",
        "print(\"MARS Model\")\n",
        "print(\"--------------------------------------\")\n",
        "#print(\"Intercept: \", MARS.intercept_)\n",
        "print(\"Slope: \", MARS.coef_)\n",
        "\n",
        "print(\"\")\n",
        "print(\"<><><><><><><><><><><><><><><><><><><>\")\n",
        "print(\"\")\n",
        "\n",
        "# MARS\n",
        "print(MARS.summary())"
      ],
      "metadata": {
        "colab": {
          "base_uri": "https://localhost:8080/"
        },
        "id": "v91yOLaBpPIJ",
        "outputId": "ec400e2a-ed15-42e8-8c99-9c29b9179f3c"
      },
      "execution_count": 21,
      "outputs": [
        {
          "output_type": "stream",
          "name": "stdout",
          "text": [
            "\n",
            "MARS Model\n",
            "--------------------------------------\n",
            "Slope:  [[ 0.7477745  -0.25395453 -0.10920368  0.11518777  0.34681693  1.06470503\n",
            "  -1.98337515  0.33902051]]\n",
            "\n",
            "<><><><><><><><><><><><><><><><><><><>\n",
            "\n",
            "Earth Model\n",
            "-------------------------------------------------------------\n",
            "Basis Function                          Pruned  Coefficient  \n",
            "-------------------------------------------------------------\n",
            "(Intercept)                             No      0.747775     \n",
            "h(CPI-0.847661)                         Yes     None         \n",
            "h(0.847661-CPI)                         Yes     None         \n",
            "h(Exchange_rate(dollar/Euro)-0.464097)  No      -0.253955    \n",
            "h(0.464097-Exchange_rate(dollar/Euro))  No      -0.109204    \n",
            "h(Taux dinteret-0.391408)               No      0.115188     \n",
            "h(0.391408-Taux dinteret)               Yes     None         \n",
            "h(Reserves-0.480829)                    Yes     None         \n",
            "h(0.480829-Reserves)                    Yes     None         \n",
            "h(CPI-0.453754)                         No      0.346817     \n",
            "h(0.453754-CPI)                         No      1.06471      \n",
            "h(CPI-0.612622)                         Yes     None         \n",
            "h(0.612622-CPI)                         No      -1.98338     \n",
            "h(Exchange_rate(dollar/Euro)-0.294794)  No      0.339021     \n",
            "h(0.294794-Exchange_rate(dollar/Euro))  Yes     None         \n",
            "-------------------------------------------------------------\n",
            "MSE: 0.0003, GCV: 0.0003, RSQ: 0.9964, GRSQ: 0.9957\n"
          ]
        }
      ]
    },
    {
      "cell_type": "code",
      "source": [
        "import numpy as np\n",
        "from sklearn.metrics import mean_squared_error\n",
        "prediction2=model2.predict(X_test)\n",
        "k=prediction2\n",
        "#k2=prediction1\n",
        "t=y_test.to_list()\n",
        "arma_rmse1 = np.sqrt(mean_squared_error(k, t))\n",
        "#arma_rmse2 = np.sqrt(mean_squared_error(k2, t))\n",
        "print(\"RMSE: \",arma_rmse1)\n",
        "arma_mse1= mean_squared_error(t, k)\n",
        "print(\"MSE :\",arma_mse1)\n",
        "MAE=mean_absolute_error(t,k)\n",
        "print(\"MAE :\",MAE)\n",
        "Variance=explained_variance_score(t, k)\n",
        "print(\"Variance\",Variance)"
      ],
      "metadata": {
        "colab": {
          "base_uri": "https://localhost:8080/"
        },
        "id": "JiyvpzrPpTBp",
        "outputId": "defb8b82-6174-44a7-f121-3161f294fb39"
      },
      "execution_count": 22,
      "outputs": [
        {
          "output_type": "stream",
          "name": "stdout",
          "text": [
            "RMSE:  0.023282672696225682\n",
            "MSE : 0.0005420828478795729\n",
            "MAE : 0.015418186191203309\n",
            "Variance 0.9944074527491537\n"
          ]
        }
      ]
    },
    {
      "cell_type": "code",
      "source": [
        "cv1 = KFold(n_splits=10, shuffle=True)\n",
        "scores = cross_val_score(MARS, X, y, cv=cv1)\n",
        "# plot feature importance\n",
        "plt.bar([x for x in range(len(scores))], scores)\n",
        "plt.show()\n",
        "print(\"%0.2f accuracy with a standard deviation of %0.2f\" % (scores.mean(), scores.std()))"
      ],
      "metadata": {
        "colab": {
          "base_uri": "https://localhost:8080/",
          "height": 282
        },
        "id": "oshyC23QpV3g",
        "outputId": "6ebaa2f7-fba8-4df9-a7a2-32a8b91875cd"
      },
      "execution_count": 23,
      "outputs": [
        {
          "output_type": "display_data",
          "data": {
            "text/plain": [
              "<Figure size 432x288 with 1 Axes>"
            ],
            "image/png": "[encoded data removed]"
          },
          "metadata": {
            "needs_background": "light"
          }
        },
        {
          "output_type": "stream",
          "name": "stdout",
          "text": [
            "0.99 accuracy with a standard deviation of 0.01\n"
          ]
        }
      ]
    },
    {
      "cell_type": "code",
      "source": [
        "from sklearn.metrics import mean_squared_error # for calculating the cost function\n",
        "from sklearn.ensemble import RandomForestRegressor # for building the model\n",
        "# Initializing the Random Forest Regression model with 10 decision trees\n",
        "model = RandomForestRegressor(n_estimators = 10, random_state = 30)\n",
        "\n",
        "# Fitting the Random Forest Regression model to the data\n",
        "model.fit(X_train,y_train)\n",
        "# Predicting the target values of the test set\n",
        "y_pred = model.predict(X_test)\n",
        "\n",
        "# RMSE (Root Mean Square Error)\n",
        "rmse = float(format(np.sqrt(mean_squared_error(y_test, y_pred)), '.6f'))\n",
        "print(\"\\nRMSE: \", rmse)\n",
        "t=y_test.to_list()\n",
        "arma_mse1= mean_squared_error(t,y_pred)\n",
        "print(\"MSE :\",arma_mse1)\n",
        "MAE=mean_absolute_error(t,y_pred)\n",
        "print(\"MAE :\",MAE)\n",
        "Variance=explained_variance_score(t, y_pred)\n",
        "print(\"Variance\",Variance)\n",
        "# Cross validation\n",
        "cv1 = KFold(n_splits=10, shuffle=True)\n",
        "scores = cross_val_score(model, X, y, cv=cv1)\n",
        "# plot feature importance\n",
        "plt.bar([x for x in range(len(scores))], scores)\n",
        "plt.show()\n",
        "print(\"%0.2f accuracy with a standard deviation of %0.2f\" % (scores.mean(), scores.std()))\n"
      ],
      "metadata": {
        "colab": {
          "base_uri": "https://localhost:8080/",
          "height": 369
        },
        "id": "HaQkjcPlpY0q",
        "outputId": "43c6d2fa-aba0-4db2-bc6d-56ddd99a0fec"
      },
      "execution_count": 24,
      "outputs": [
        {
          "output_type": "stream",
          "name": "stdout",
          "text": [
            "\n",
            "RMSE:  0.016662\n",
            "MSE : 0.00027762513171747426\n",
            "MAE : 0.011677973227944177\n",
            "Variance 0.9973033212905666\n"
          ]
        },
        {
          "output_type": "display_data",
          "data": {
            "text/plain": [
              "<Figure size 432x288 with 1 Axes>"
            ],
            "image/png": "[encoded data removed]"
          },
          "metadata": {
            "needs_background": "light"
          }
        },
        {
          "output_type": "stream",
          "name": "stdout",
          "text": [
            "1.00 accuracy with a standard deviation of 0.00\n"
          ]
        }
      ]
    },
    {
      "cell_type": "code",
      "source": [
        "from sklearn.svm import SVR\n",
        "regressor = SVR(kernel='rbf')\n",
        "regressor.fit(X_train,y_train)\n",
        "y_pred2 = regressor.predict(X_test)\n",
        "\n",
        "# RMSE (Root Mean Square Error)\n",
        "rmse = float(format(np.sqrt(mean_squared_error(y_test, y_pred2)), '.3f'))\n",
        "print(\"\\nRMSE: \", rmse)\n",
        "t=y_test.to_list()\n",
        "arma_mse1= mean_squared_error(t,y_pred2)\n",
        "print(\"MSE :\",arma_mse1)\n",
        "MAE=mean_absolute_error(t,y_pred2)\n",
        "print(\"MAE :\",MAE)\n",
        "Variance=explained_variance_score(t, y_pred2)\n",
        "print(\"Variance\",Variance)\n",
        "# Cross validation\n",
        "cv1 = KFold(n_splits=10, shuffle=True)\n",
        "scores = cross_val_score(regressor, X_train, y_train, cv=cv1)\n",
        "# plot feature importance\n",
        "plt.bar([x for x in range(len(scores))], scores)\n",
        "plt.show()\n",
        "print(\"%0.2f accuracy with a standard deviation of %0.2f\" % (scores.mean(), scores.std()))"
      ],
      "metadata": {
        "colab": {
          "base_uri": "https://localhost:8080/",
          "height": 371
        },
        "id": "5KNJ7sU3pefB",
        "outputId": "000ab352-61a6-412e-e56a-2818d7fe2806"
      },
      "execution_count": 25,
      "outputs": [
        {
          "output_type": "stream",
          "name": "stdout",
          "text": [
            "\n",
            "RMSE:  0.073\n",
            "MSE : 0.005318663563483463\n",
            "MAE : 0.06328337116139979\n",
            "Variance 0.9454807871648125\n"
          ]
        },
        {
          "output_type": "display_data",
          "data": {
            "text/plain": [
              "<Figure size 432x288 with 1 Axes>"
            ],
            "image/png": "[encoded data removed]"
          },
          "metadata": {
            "needs_background": "light"
          }
        },
        {
          "output_type": "stream",
          "name": "stdout",
          "text": [
            "0.93 accuracy with a standard deviation of 0.03\n"
          ]
        }
      ]
    },
    {
      "cell_type": "code",
      "source": [
        "import math\n",
        "import pandas_datareader as web\n",
        "import numpy as np\n",
        "import pandas as pd\n",
        "from sklearn.preprocessing import MinMaxScaler\n",
        "from keras.models import Sequential\n",
        "from keras.layers import Dense, LSTM\n",
        "import matplotlib.pyplot as plt\n",
        "plt.style.use('fivethirtyeight')"
      ],
      "metadata": {
        "id": "0WGxTwplpjaY"
      },
      "execution_count": 26,
      "outputs": []
    },
    {
      "cell_type": "code",
      "source": [
        "import pandas as pd\n",
        "import numpy as np\n",
        "path=\"/content/Final2.xlsx\"\n",
        "df=pd.read_excel(path,index_col=0,parse_dates=True)\n",
        "print(df.tail())\n"
      ],
      "metadata": {
        "colab": {
          "base_uri": "https://localhost:8080/"
        },
        "id": "aPnonM02plx5",
        "outputId": "f7372724-771e-48c7-c940-3502e4105ccd"
      },
      "execution_count": 27,
      "outputs": [
        {
          "output_type": "stream",
          "name": "stdout",
          "text": [
            "              CPI    IPI  Reserves  Balance Commerciale        M3  \\\n",
            "Date                                                                \n",
            "2022-01-01  144.5   95.8  24972743             0.834743   97045.0   \n",
            "2022-02-01  145.0   92.6  25188219             0.708072   97883.0   \n",
            "2022-03-01  146.2  100.3  24209796             0.769572   99055.0   \n",
            "2022-04-01  148.2    NaN  25715075                  NaN  100243.0   \n",
            "2022-05-01  149.5    NaN  26329963                  NaN       NaN   \n",
            "\n",
            "            Exchange_rate (dollar/Euro)  Taux dinteret  Exchange1  Exchange2  \n",
            "Date                                                                          \n",
            "2022-01-01                       1.1156           6.19   3.284897     2.9591  \n",
            "2022-02-01                       1.1199           6.25   3.243495     2.9074  \n",
            "2022-03-01                       1.1101           6.26   3.264173     2.9147  \n",
            "2022-04-01                       1.0540           6.26   3.284897     2.9591  \n",
            "2022-05-01                       1.0713           6.60   3.247058     3.0807  \n"
          ]
        }
      ]
    },
    {
      "cell_type": "code",
      "source": [
        "# Data cleaning \n",
        "# replace missing values with the median.\n",
        "# impute the missing values and create the missing value indicator variables for each numeric column.\n",
        "df_numeric = df.select_dtypes(include=[np.number])\n",
        "numeric_cols = df_numeric.columns.values\n",
        "\n",
        "for col in numeric_cols:\n",
        "    missing = df[col].isnull()\n",
        "    num_missing = np.sum(missing)\n",
        "    \n",
        "    if num_missing > 0:  # only do the imputation for the columns that have missing values.\n",
        "        print('imputing missing values for: {}'.format(col))\n",
        "        df['{}_ismissing'.format(col)] = missing\n",
        "        med = df[col].median()\n",
        "        df[col] = df[col].fillna(med)\n",
        "df\n"
      ],
      "metadata": {
        "colab": {
          "base_uri": "https://localhost:8080/",
          "height": 762
        },
        "id": "E2RxJjV7pocS",
        "outputId": "2973a706-4f36-495b-c480-27447ae3217a"
      },
      "execution_count": 28,
      "outputs": [
        {
          "output_type": "stream",
          "name": "stdout",
          "text": [
            "imputing missing values for: IPI\n",
            "imputing missing values for: Balance Commerciale\n",
            "imputing missing values for: M3\n"
          ]
        },
        {
          "output_type": "execute_result",
          "data": {
            "text/plain": [
              "              CPI    IPI  Reserves  Balance Commerciale        M3  \\\n",
              "Date                                                                \n",
              "2000-01-01   57.6   78.0   3001350             0.721995   12494.0   \n",
              "2000-02-01   57.7   79.0   2540672             0.749059   12512.0   \n",
              "2000-03-01   57.7   81.0   2377402             0.759163   12549.0   \n",
              "2000-04-01   57.6   78.0   2114395             0.582870   12480.0   \n",
              "2000-05-01   57.6   85.0   2080391             0.633519   12514.0   \n",
              "...           ...    ...       ...                  ...       ...   \n",
              "2022-01-01  144.5   95.8  24972743             0.834743   97045.0   \n",
              "2022-02-01  145.0   92.6  25188219             0.708072   97883.0   \n",
              "2022-03-01  146.2  100.3  24209796             0.769572   99055.0   \n",
              "2022-04-01  148.2   92.6  25715075             0.713563  100243.0   \n",
              "2022-05-01  149.5   92.6  26329963             0.713563   41184.5   \n",
              "\n",
              "            Exchange_rate (dollar/Euro)  Taux dinteret  Exchange1  Exchange2  \\\n",
              "Date                                                                           \n",
              "2000-01-01                       0.9791           5.88   1.248842     1.2755   \n",
              "2000-02-01                       0.9714           5.88   1.258740     1.2958   \n",
              "2000-03-01                       0.9553           5.88   1.258226     1.3171   \n",
              "2000-04-01                       0.9085           5.88   1.250641     1.3766   \n",
              "2000-05-01                       0.9303           5.88   1.278232     1.3740   \n",
              "...                                 ...            ...        ...        ...   \n",
              "2022-01-01                       1.1156           6.19   3.284897     2.9591   \n",
              "2022-02-01                       1.1199           6.25   3.243495     2.9074   \n",
              "2022-03-01                       1.1101           6.26   3.264173     2.9147   \n",
              "2022-04-01                       1.0540           6.26   3.284897     2.9591   \n",
              "2022-05-01                       1.0713           6.60   3.247058     3.0807   \n",
              "\n",
              "            IPI_ismissing  Balance Commerciale_ismissing  M3_ismissing  \n",
              "Date                                                                    \n",
              "2000-01-01          False                          False         False  \n",
              "2000-02-01          False                          False         False  \n",
              "2000-03-01          False                          False         False  \n",
              "2000-04-01          False                          False         False  \n",
              "2000-05-01          False                          False         False  \n",
              "...                   ...                            ...           ...  \n",
              "2022-01-01          False                          False         False  \n",
              "2022-02-01          False                          False         False  \n",
              "2022-03-01          False                          False         False  \n",
              "2022-04-01           True                           True         False  \n",
              "2022-05-01           True                           True          True  \n",
              "\n",
              "[269 rows x 12 columns]"
            ],
            "text/html": [
              "\n",
              "  <div id=\"df-545b9bea-cb20-4495-adb3-6325402807a5\">\n",
              "    <div class=\"colab-df-container\">\n",
              "      <div>\n",
              "<style scoped>\n",
              "    .dataframe tbody tr th:only-of-type {\n",
              "        vertical-align: middle;\n",
              "    }\n",
              "\n",
              "    .dataframe tbody tr th {\n",
              "        vertical-align: top;\n",
              "    }\n",
              "\n",
              "    .dataframe thead th {\n",
              "        text-align: right;\n",
              "    }\n",
              "</style>\n",
              "<table border=\"1\" class=\"dataframe\">\n",
              "  <thead>\n",
              "    <tr style=\"text-align: right;\">\n",
              "      <th></th>\n",
              "      <th>CPI</th>\n",
              "      <th>IPI</th>\n",
              "      <th>Reserves</th>\n",
              "      <th>Balance Commerciale</th>\n",
              "      <th>M3</th>\n",
              "      <th>Exchange_rate (dollar/Euro)</th>\n",
              "      <th>Taux dinteret</th>\n",
              "      <th>Exchange1</th>\n",
              "      <th>Exchange2</th>\n",
              "      <th>IPI_ismissing</th>\n",
              "      <th>Balance Commerciale_ismissing</th>\n",
              "      <th>M3_ismissing</th>\n",
              "    </tr>\n",
              "    <tr>\n",
              "      <th>Date</th>\n",
              "      <th></th>\n",
              "      <th></th>\n",
              "      <th></th>\n",
              "      <th></th>\n",
              "      <th></th>\n",
              "      <th></th>\n",
              "      <th></th>\n",
              "      <th></th>\n",
              "      <th></th>\n",
              "      <th></th>\n",
              "      <th></th>\n",
              "      <th></th>\n",
              "    </tr>\n",
              "  </thead>\n",
              "  <tbody>\n",
              "    <tr>\n",
              "      <th>2000-01-01</th>\n",
              "      <td>57.6</td>\n",
              "      <td>78.0</td>\n",
              "      <td>3001350</td>\n",
              "      <td>0.721995</td>\n",
              "      <td>12494.0</td>\n",
              "      <td>0.9791</td>\n",
              "      <td>5.88</td>\n",
              "      <td>1.248842</td>\n",
              "      <td>1.2755</td>\n",
              "      <td>False</td>\n",
              "      <td>False</td>\n",
              "      <td>False</td>\n",
              "    </tr>\n",
              "    <tr>\n",
              "      <th>2000-02-01</th>\n",
              "      <td>57.7</td>\n",
              "      <td>79.0</td>\n",
              "      <td>2540672</td>\n",
              "      <td>0.749059</td>\n",
              "      <td>12512.0</td>\n",
              "      <td>0.9714</td>\n",
              "      <td>5.88</td>\n",
              "      <td>1.258740</td>\n",
              "      <td>1.2958</td>\n",
              "      <td>False</td>\n",
              "      <td>False</td>\n",
              "      <td>False</td>\n",
              "    </tr>\n",
              "    <tr>\n",
              "      <th>2000-03-01</th>\n",
              "      <td>57.7</td>\n",
              "      <td>81.0</td>\n",
              "      <td>2377402</td>\n",
              "      <td>0.759163</td>\n",
              "      <td>12549.0</td>\n",
              "      <td>0.9553</td>\n",
              "      <td>5.88</td>\n",
              "      <td>1.258226</td>\n",
              "      <td>1.3171</td>\n",
              "      <td>False</td>\n",
              "      <td>False</td>\n",
              "      <td>False</td>\n",
              "    </tr>\n",
              "    <tr>\n",
              "      <th>2000-04-01</th>\n",
              "      <td>57.6</td>\n",
              "      <td>78.0</td>\n",
              "      <td>2114395</td>\n",
              "      <td>0.582870</td>\n",
              "      <td>12480.0</td>\n",
              "      <td>0.9085</td>\n",
              "      <td>5.88</td>\n",
              "      <td>1.250641</td>\n",
              "      <td>1.3766</td>\n",
              "      <td>False</td>\n",
              "      <td>False</td>\n",
              "      <td>False</td>\n",
              "    </tr>\n",
              "    <tr>\n",
              "      <th>2000-05-01</th>\n",
              "      <td>57.6</td>\n",
              "      <td>85.0</td>\n",
              "      <td>2080391</td>\n",
              "      <td>0.633519</td>\n",
              "      <td>12514.0</td>\n",
              "      <td>0.9303</td>\n",
              "      <td>5.88</td>\n",
              "      <td>1.278232</td>\n",
              "      <td>1.3740</td>\n",
              "      <td>False</td>\n",
              "      <td>False</td>\n",
              "      <td>False</td>\n",
              "    </tr>\n",
              "    <tr>\n",
              "      <th>...</th>\n",
              "      <td>...</td>\n",
              "      <td>...</td>\n",
              "      <td>...</td>\n",
              "      <td>...</td>\n",
              "      <td>...</td>\n",
              "      <td>...</td>\n",
              "      <td>...</td>\n",
              "      <td>...</td>\n",
              "      <td>...</td>\n",
              "      <td>...</td>\n",
              "      <td>...</td>\n",
              "      <td>...</td>\n",
              "    </tr>\n",
              "    <tr>\n",
              "      <th>2022-01-01</th>\n",
              "      <td>144.5</td>\n",
              "      <td>95.8</td>\n",
              "      <td>24972743</td>\n",
              "      <td>0.834743</td>\n",
              "      <td>97045.0</td>\n",
              "      <td>1.1156</td>\n",
              "      <td>6.19</td>\n",
              "      <td>3.284897</td>\n",
              "      <td>2.9591</td>\n",
              "      <td>False</td>\n",
              "      <td>False</td>\n",
              "      <td>False</td>\n",
              "    </tr>\n",
              "    <tr>\n",
              "      <th>2022-02-01</th>\n",
              "      <td>145.0</td>\n",
              "      <td>92.6</td>\n",
              "      <td>25188219</td>\n",
              "      <td>0.708072</td>\n",
              "      <td>97883.0</td>\n",
              "      <td>1.1199</td>\n",
              "      <td>6.25</td>\n",
              "      <td>3.243495</td>\n",
              "      <td>2.9074</td>\n",
              "      <td>False</td>\n",
              "      <td>False</td>\n",
              "      <td>False</td>\n",
              "    </tr>\n",
              "    <tr>\n",
              "      <th>2022-03-01</th>\n",
              "      <td>146.2</td>\n",
              "      <td>100.3</td>\n",
              "      <td>24209796</td>\n",
              "      <td>0.769572</td>\n",
              "      <td>99055.0</td>\n",
              "      <td>1.1101</td>\n",
              "      <td>6.26</td>\n",
              "      <td>3.264173</td>\n",
              "      <td>2.9147</td>\n",
              "      <td>False</td>\n",
              "      <td>False</td>\n",
              "      <td>False</td>\n",
              "    </tr>\n",
              "    <tr>\n",
              "      <th>2022-04-01</th>\n",
              "      <td>148.2</td>\n",
              "      <td>92.6</td>\n",
              "      <td>25715075</td>\n",
              "      <td>0.713563</td>\n",
              "      <td>100243.0</td>\n",
              "      <td>1.0540</td>\n",
              "      <td>6.26</td>\n",
              "      <td>3.284897</td>\n",
              "      <td>2.9591</td>\n",
              "      <td>True</td>\n",
              "      <td>True</td>\n",
              "      <td>False</td>\n",
              "    </tr>\n",
              "    <tr>\n",
              "      <th>2022-05-01</th>\n",
              "      <td>149.5</td>\n",
              "      <td>92.6</td>\n",
              "      <td>26329963</td>\n",
              "      <td>0.713563</td>\n",
              "      <td>41184.5</td>\n",
              "      <td>1.0713</td>\n",
              "      <td>6.60</td>\n",
              "      <td>3.247058</td>\n",
              "      <td>3.0807</td>\n",
              "      <td>True</td>\n",
              "      <td>True</td>\n",
              "      <td>True</td>\n",
              "    </tr>\n",
              "  </tbody>\n",
              "</table>\n",
              "<p>269 rows × 12 columns</p>\n",
              "</div>\n",
              "      <button class=\"colab-df-convert\" onclick=\"convertToInteractive('df-545b9bea-cb20-4495-adb3-6325402807a5')\"\n",
              "              title=\"Convert this dataframe to an interactive table.\"\n",
              "              style=\"display:none;\">\n",
              "        \n",
              "  <svg xmlns=\"http://www.w3.org/2000/svg\" height=\"24px\"viewBox=\"0 0 24 24\"\n",
              "       width=\"24px\">\n",
              "    <path d=\"M0 0h24v24H0V0z\" fill=\"none\"/>\n",
              "    <path d=\"M18.56 5.44l.94 2.06.94-2.06 2.06-.94-2.06-.94-.94-2.06-.94 2.06-2.06.94zm-11 1L8.5 8.5l.94-2.06 2.06-.94-2.06-.94L8.5 2.5l-.94 2.06-2.06.94zm10 10l.94 2.06.94-2.06 2.06-.94-2.06-.94-.94-2.06-.94 2.06-2.06.94z\"/><path d=\"M17.41 7.96l-1.37-1.37c-.4-.4-.92-.59-1.43-.59-.52 0-1.04.2-1.43.59L10.3 9.45l-7.72 7.72c-.78.78-.78 2.05 0 2.83L4 21.41c.39.39.9.59 1.41.59.51 0 1.02-.2 1.41-.59l7.78-7.78 2.81-2.81c.8-.78.8-2.07 0-2.86zM5.41 20L4 18.59l7.72-7.72 1.47 1.35L5.41 20z\"/>\n",
              "  </svg>\n",
              "      </button>\n",
              "      \n",
              "  <style>\n",
              "    .colab-df-container {\n",
              "      display:flex;\n",
              "      flex-wrap:wrap;\n",
              "      gap: 12px;\n",
              "    }\n",
              "\n",
              "    .colab-df-convert {\n",
              "      background-color: #E8F0FE;\n",
              "      border: none;\n",
              "      border-radius: 50%;\n",
              "      cursor: pointer;\n",
              "      display: none;\n",
              "      fill: #1967D2;\n",
              "      height: 32px;\n",
              "      padding: 0 0 0 0;\n",
              "      width: 32px;\n",
              "    }\n",
              "\n",
              "    .colab-df-convert:hover {\n",
              "      background-color: #E2EBFA;\n",
              "      box-shadow: 0px 1px 2px rgba(60, 64, 67, 0.3), 0px 1px 3px 1px rgba(60, 64, 67, 0.15);\n",
              "      fill: #174EA6;\n",
              "    }\n",
              "\n",
              "    [theme=dark] .colab-df-convert {\n",
              "      background-color: #3B4455;\n",
              "      fill: #D2E3FC;\n",
              "    }\n",
              "\n",
              "    [theme=dark] .colab-df-convert:hover {\n",
              "      background-color: #434B5C;\n",
              "      box-shadow: 0px 1px 3px 1px rgba(0, 0, 0, 0.15);\n",
              "      filter: drop-shadow(0px 1px 2px rgba(0, 0, 0, 0.3));\n",
              "      fill: #FFFFFF;\n",
              "    }\n",
              "  </style>\n",
              "\n",
              "      <script>\n",
              "        const buttonEl =\n",
              "          document.querySelector('#df-545b9bea-cb20-4495-adb3-6325402807a5 button.colab-df-convert');\n",
              "        buttonEl.style.display =\n",
              "          google.colab.kernel.accessAllowed ? 'block' : 'none';\n",
              "\n",
              "        async function convertToInteractive(key) {\n",
              "          const element = document.querySelector('#df-545b9bea-cb20-4495-adb3-6325402807a5');\n",
              "          const dataTable =\n",
              "            await google.colab.kernel.invokeFunction('convertToInteractive',\n",
              "                                                     [key], {});\n",
              "          if (!dataTable) return;\n",
              "\n",
              "          const docLinkHtml = 'Like what you see? Visit the ' +\n",
              "            '<a target=\"_blank\" href=https://colab.research.google.com/notebooks/data_table.ipynb>data table notebook</a>'\n",
              "            + ' to learn more about interactive tables.';\n",
              "          element.innerHTML = '';\n",
              "          dataTable['output_type'] = 'display_data';\n",
              "          await google.colab.output.renderOutput(dataTable, element);\n",
              "          const docLink = document.createElement('div');\n",
              "          docLink.innerHTML = docLinkHtml;\n",
              "          element.appendChild(docLink);\n",
              "        }\n",
              "      </script>\n",
              "    </div>\n",
              "  </div>\n",
              "  "
            ]
          },
          "metadata": {},
          "execution_count": 28
        }
      ]
    },
    {
      "cell_type": "code",
      "source": [
        "data=df.iloc[:,7]\n",
        "print(data)\n",
        "dataset=data.values\n",
        "training_data_len=math.ceil(len(dataset)*.8)\n",
        "training_data_len"
      ],
      "metadata": {
        "colab": {
          "base_uri": "https://localhost:8080/"
        },
        "id": "X5nO-Qj0prBa",
        "outputId": "7d7b4134-1539-4089-fda8-9d99ac1b6a6c"
      },
      "execution_count": 29,
      "outputs": [
        {
          "output_type": "stream",
          "name": "stdout",
          "text": [
            "Date \n",
            "2000-01-01    1.248842\n",
            "2000-02-01    1.258740\n",
            "2000-03-01    1.258226\n",
            "2000-04-01    1.250641\n",
            "2000-05-01    1.278232\n",
            "                ...   \n",
            "2022-01-01    3.284897\n",
            "2022-02-01    3.243495\n",
            "2022-03-01    3.264173\n",
            "2022-04-01    3.284897\n",
            "2022-05-01    3.247058\n",
            "Name: Exchange1, Length: 269, dtype: float64\n"
          ]
        },
        {
          "output_type": "execute_result",
          "data": {
            "text/plain": [
              "216"
            ]
          },
          "metadata": {},
          "execution_count": 29
        }
      ]
    },
    {
      "cell_type": "code",
      "source": [
        "train_data=dataset[0:training_data_len]\n",
        "print(train_data)\n",
        "print(len(train_data))\n",
        "x_train=[]\n",
        "y_train=[]\n",
        "for i in range (5,len(train_data)):\n",
        "  x_train.append(train_data[i-5:i])\n",
        "  y_train.append(train_data[i])\n",
        "print(x_train)\n",
        "print(y_train)\n"
      ],
      "metadata": {
        "colab": {
          "base_uri": "https://localhost:8080/"
        },
        "id": "_ncnCdlhptqa",
        "outputId": "4dec5747-63d8-405f-f2de-8645e932034d"
      },
      "execution_count": 30,
      "outputs": [
        {
          "output_type": "stream",
          "name": "stdout",
          "text": [
            "[1.24884205 1.25874012 1.25822563 1.2506411  1.2782322  1.2742926\n",
            " 1.27035792 1.25521164 1.2546221  1.24470596 1.26551932 1.28902165\n",
            " 1.28466432 1.28565696 1.2753408  1.2705994  1.2706432  1.2759856\n",
            " 1.28462115 1.30373288 1.30509383 1.30358514 1.30070964 1.29401279\n",
            " 1.28984958 1.29081571 1.306419   1.32138352 1.34459388 1.37186175\n",
            " 1.34966268 1.35567571 1.3678778  1.35994968 1.37647782 1.39907067\n",
            " 1.41408384 1.42343964 1.43127615 1.45059192 1.48318812 1.46288454\n",
            " 1.45900338 1.4303443  1.47153108 1.47901572 1.49925    1.5260829\n",
            " 1.51964064 1.53250538 1.515776   1.51774688 1.5357282  1.536392\n",
            " 1.5325647  1.53676479 1.56278946 1.5742932  1.6142789  1.63370274\n",
            " 1.6126902  1.62464535 1.62075928 1.61392392 1.59279527 1.59965068\n",
            " 1.60933644 1.61416134 1.62121446 1.61997902 1.6076454  1.60840298\n",
            " 1.63096162 1.61844375 1.63694496 1.66190472 1.68738084 1.68498102\n",
            " 1.69086148 1.69517541 1.6879578  1.6834896  1.716264   1.7082807\n",
            " 1.7079849  1.72377128 1.73546858 1.7572218  1.75104248 1.7561902\n",
            " 1.78245828 1.75273245 1.77450185 1.78608261 1.79774219 1.79699247\n",
            " 1.797783   1.80608636 1.81648256 1.8183354  1.82637716 1.8317768\n",
            " 1.83257529 1.8088686  1.78401319 1.75038797 1.76128953 1.82298783\n",
            " 1.82102544 1.83565592 1.85726448 1.850535   1.90238412 1.893956\n",
            " 1.88827128 1.88590208 1.89978282 1.9129     1.92114124 1.89770238\n",
            " 1.88904116 1.8993929  1.89272118 1.9008494  1.85158815 1.86187883\n",
            " 1.90313024 1.8895736  1.93979024 1.93707003 1.90199734 1.92132198\n",
            " 1.94535936 1.94326198 1.96823778 1.999413   1.9721835  1.97586963\n",
            " 1.9684504  1.9734365  1.93687032 1.97708121 1.97472706 1.93994427\n",
            " 1.97824464 1.99964625 2.010078   2.0250455  2.00122405 1.9974035\n",
            " 1.99332468 2.01788611 2.0359578  2.03743233 2.04178878 2.04586164\n",
            " 2.085345   2.06401009 2.043678   2.10733712 2.1310331  2.1644784\n",
            " 2.19847275 2.1872161  2.2261642  2.23385016 2.27358144 2.27096397\n",
            " 2.16756092 2.18300652 2.18098584 2.2153075  2.22351987 2.30355828\n",
            " 2.29904736 2.29418448 2.27085401 2.27861656 2.29949343 2.25968292\n",
            " 2.1857087  2.1919124  2.108764   2.1463267  2.153411   2.17133734\n",
            " 2.16214405 2.1909624  2.20262183 2.19513725 2.18720825 2.21234727\n",
            " 2.2261512  2.2195188  2.2984038  2.28892419 2.35784406 2.43389146\n",
            " 2.47142007 2.46273236 2.46300948 2.46690002 2.4554088  2.46543449\n",
            " 2.48279175 2.43614433 2.49602777 2.6179536  2.74645196 2.80598256\n",
            " 2.90501244 2.889084   2.9184432  2.9118276  2.94341009 2.97894127]\n",
            "216\n",
            "[array([1.24884205, 1.25874012, 1.25822563, 1.2506411 , 1.2782322 ]), array([1.25874012, 1.25822563, 1.2506411 , 1.2782322 , 1.2742926 ]), array([1.25822563, 1.2506411 , 1.2782322 , 1.2742926 , 1.27035792]), array([1.2506411 , 1.2782322 , 1.2742926 , 1.27035792, 1.25521164]), array([1.2782322 , 1.2742926 , 1.27035792, 1.25521164, 1.2546221 ]), array([1.2742926 , 1.27035792, 1.25521164, 1.2546221 , 1.24470596]), array([1.27035792, 1.25521164, 1.2546221 , 1.24470596, 1.26551932]), array([1.25521164, 1.2546221 , 1.24470596, 1.26551932, 1.28902165]), array([1.2546221 , 1.24470596, 1.26551932, 1.28902165, 1.28466432]), array([1.24470596, 1.26551932, 1.28902165, 1.28466432, 1.28565696]), array([1.26551932, 1.28902165, 1.28466432, 1.28565696, 1.2753408 ]), array([1.28902165, 1.28466432, 1.28565696, 1.2753408 , 1.2705994 ]), array([1.28466432, 1.28565696, 1.2753408 , 1.2705994 , 1.2706432 ]), array([1.28565696, 1.2753408 , 1.2705994 , 1.2706432 , 1.2759856 ]), array([1.2753408 , 1.2705994 , 1.2706432 , 1.2759856 , 1.28462115]), array([1.2705994 , 1.2706432 , 1.2759856 , 1.28462115, 1.30373288]), array([1.2706432 , 1.2759856 , 1.28462115, 1.30373288, 1.30509383]), array([1.2759856 , 1.28462115, 1.30373288, 1.30509383, 1.30358514]), array([1.28462115, 1.30373288, 1.30509383, 1.30358514, 1.30070964]), array([1.30373288, 1.30509383, 1.30358514, 1.30070964, 1.29401279]), array([1.30509383, 1.30358514, 1.30070964, 1.29401279, 1.28984958]), array([1.30358514, 1.30070964, 1.29401279, 1.28984958, 1.29081571]), array([1.30070964, 1.29401279, 1.28984958, 1.29081571, 1.306419  ]), array([1.29401279, 1.28984958, 1.29081571, 1.306419  , 1.32138352]), array([1.28984958, 1.29081571, 1.306419  , 1.32138352, 1.34459388]), array([1.29081571, 1.306419  , 1.32138352, 1.34459388, 1.37186175]), array([1.306419  , 1.32138352, 1.34459388, 1.37186175, 1.34966268]), array([1.32138352, 1.34459388, 1.37186175, 1.34966268, 1.35567571]), array([1.34459388, 1.37186175, 1.34966268, 1.35567571, 1.3678778 ]), array([1.37186175, 1.34966268, 1.35567571, 1.3678778 , 1.35994968]), array([1.34966268, 1.35567571, 1.3678778 , 1.35994968, 1.37647782]), array([1.35567571, 1.3678778 , 1.35994968, 1.37647782, 1.39907067]), array([1.3678778 , 1.35994968, 1.37647782, 1.39907067, 1.41408384]), array([1.35994968, 1.37647782, 1.39907067, 1.41408384, 1.42343964]), array([1.37647782, 1.39907067, 1.41408384, 1.42343964, 1.43127615]), array([1.39907067, 1.41408384, 1.42343964, 1.43127615, 1.45059192]), array([1.41408384, 1.42343964, 1.43127615, 1.45059192, 1.48318812]), array([1.42343964, 1.43127615, 1.45059192, 1.48318812, 1.46288454]), array([1.43127615, 1.45059192, 1.48318812, 1.46288454, 1.45900338]), array([1.45059192, 1.48318812, 1.46288454, 1.45900338, 1.4303443 ]), array([1.48318812, 1.46288454, 1.45900338, 1.4303443 , 1.47153108]), array([1.46288454, 1.45900338, 1.4303443 , 1.47153108, 1.47901572]), array([1.45900338, 1.4303443 , 1.47153108, 1.47901572, 1.49925   ]), array([1.4303443 , 1.47153108, 1.47901572, 1.49925   , 1.5260829 ]), array([1.47153108, 1.47901572, 1.49925   , 1.5260829 , 1.51964064]), array([1.47901572, 1.49925   , 1.5260829 , 1.51964064, 1.53250538]), array([1.49925   , 1.5260829 , 1.51964064, 1.53250538, 1.515776  ]), array([1.5260829 , 1.51964064, 1.53250538, 1.515776  , 1.51774688]), array([1.51964064, 1.53250538, 1.515776  , 1.51774688, 1.5357282 ]), array([1.53250538, 1.515776  , 1.51774688, 1.5357282 , 1.536392  ]), array([1.515776  , 1.51774688, 1.5357282 , 1.536392  , 1.5325647 ]), array([1.51774688, 1.5357282 , 1.536392  , 1.5325647 , 1.53676479]), array([1.5357282 , 1.536392  , 1.5325647 , 1.53676479, 1.56278946]), array([1.536392  , 1.5325647 , 1.53676479, 1.56278946, 1.5742932 ]), array([1.5325647 , 1.53676479, 1.56278946, 1.5742932 , 1.6142789 ]), array([1.53676479, 1.56278946, 1.5742932 , 1.6142789 , 1.63370274]), array([1.56278946, 1.5742932 , 1.6142789 , 1.63370274, 1.6126902 ]), array([1.5742932 , 1.6142789 , 1.63370274, 1.6126902 , 1.62464535]), array([1.6142789 , 1.63370274, 1.6126902 , 1.62464535, 1.62075928]), array([1.63370274, 1.6126902 , 1.62464535, 1.62075928, 1.61392392]), array([1.6126902 , 1.62464535, 1.62075928, 1.61392392, 1.59279527]), array([1.62464535, 1.62075928, 1.61392392, 1.59279527, 1.59965068]), array([1.62075928, 1.61392392, 1.59279527, 1.59965068, 1.60933644]), array([1.61392392, 1.59279527, 1.59965068, 1.60933644, 1.61416134]), array([1.59279527, 1.59965068, 1.60933644, 1.61416134, 1.62121446]), array([1.59965068, 1.60933644, 1.61416134, 1.62121446, 1.61997902]), array([1.60933644, 1.61416134, 1.62121446, 1.61997902, 1.6076454 ]), array([1.61416134, 1.62121446, 1.61997902, 1.6076454 , 1.60840298]), array([1.62121446, 1.61997902, 1.6076454 , 1.60840298, 1.63096162]), array([1.61997902, 1.6076454 , 1.60840298, 1.63096162, 1.61844375]), array([1.6076454 , 1.60840298, 1.63096162, 1.61844375, 1.63694496]), array([1.60840298, 1.63096162, 1.61844375, 1.63694496, 1.66190472]), array([1.63096162, 1.61844375, 1.63694496, 1.66190472, 1.68738084]), array([1.61844375, 1.63694496, 1.66190472, 1.68738084, 1.68498102]), array([1.63694496, 1.66190472, 1.68738084, 1.68498102, 1.69086148]), array([1.66190472, 1.68738084, 1.68498102, 1.69086148, 1.69517541]), array([1.68738084, 1.68498102, 1.69086148, 1.69517541, 1.6879578 ]), array([1.68498102, 1.69086148, 1.69517541, 1.6879578 , 1.6834896 ]), array([1.69086148, 1.69517541, 1.6879578 , 1.6834896 , 1.716264  ]), array([1.69517541, 1.6879578 , 1.6834896 , 1.716264  , 1.7082807 ]), array([1.6879578, 1.6834896, 1.716264 , 1.7082807, 1.7079849]), array([1.6834896 , 1.716264  , 1.7082807 , 1.7079849 , 1.72377128]), array([1.716264  , 1.7082807 , 1.7079849 , 1.72377128, 1.73546858]), array([1.7082807 , 1.7079849 , 1.72377128, 1.73546858, 1.7572218 ]), array([1.7079849 , 1.72377128, 1.73546858, 1.7572218 , 1.75104248]), array([1.72377128, 1.73546858, 1.7572218 , 1.75104248, 1.7561902 ]), array([1.73546858, 1.7572218 , 1.75104248, 1.7561902 , 1.78245828]), array([1.7572218 , 1.75104248, 1.7561902 , 1.78245828, 1.75273245]), array([1.75104248, 1.7561902 , 1.78245828, 1.75273245, 1.77450185]), array([1.7561902 , 1.78245828, 1.75273245, 1.77450185, 1.78608261]), array([1.78245828, 1.75273245, 1.77450185, 1.78608261, 1.79774219]), array([1.75273245, 1.77450185, 1.78608261, 1.79774219, 1.79699247]), array([1.77450185, 1.78608261, 1.79774219, 1.79699247, 1.797783  ]), array([1.78608261, 1.79774219, 1.79699247, 1.797783  , 1.80608636]), array([1.79774219, 1.79699247, 1.797783  , 1.80608636, 1.81648256]), array([1.79699247, 1.797783  , 1.80608636, 1.81648256, 1.8183354 ]), array([1.797783  , 1.80608636, 1.81648256, 1.8183354 , 1.82637716]), array([1.80608636, 1.81648256, 1.8183354 , 1.82637716, 1.8317768 ]), array([1.81648256, 1.8183354 , 1.82637716, 1.8317768 , 1.83257529]), array([1.8183354 , 1.82637716, 1.8317768 , 1.83257529, 1.8088686 ]), array([1.82637716, 1.8317768 , 1.83257529, 1.8088686 , 1.78401319]), array([1.8317768 , 1.83257529, 1.8088686 , 1.78401319, 1.75038797]), array([1.83257529, 1.8088686 , 1.78401319, 1.75038797, 1.76128953]), array([1.8088686 , 1.78401319, 1.75038797, 1.76128953, 1.82298783]), array([1.78401319, 1.75038797, 1.76128953, 1.82298783, 1.82102544]), array([1.75038797, 1.76128953, 1.82298783, 1.82102544, 1.83565592]), array([1.76128953, 1.82298783, 1.82102544, 1.83565592, 1.85726448]), array([1.82298783, 1.82102544, 1.83565592, 1.85726448, 1.850535  ]), array([1.82102544, 1.83565592, 1.85726448, 1.850535  , 1.90238412]), array([1.83565592, 1.85726448, 1.850535  , 1.90238412, 1.893956  ]), array([1.85726448, 1.850535  , 1.90238412, 1.893956  , 1.88827128]), array([1.850535  , 1.90238412, 1.893956  , 1.88827128, 1.88590208]), array([1.90238412, 1.893956  , 1.88827128, 1.88590208, 1.89978282]), array([1.893956  , 1.88827128, 1.88590208, 1.89978282, 1.9129    ]), array([1.88827128, 1.88590208, 1.89978282, 1.9129    , 1.92114124]), array([1.88590208, 1.89978282, 1.9129    , 1.92114124, 1.89770238]), array([1.89978282, 1.9129    , 1.92114124, 1.89770238, 1.88904116]), array([1.9129    , 1.92114124, 1.89770238, 1.88904116, 1.8993929 ]), array([1.92114124, 1.89770238, 1.88904116, 1.8993929 , 1.89272118]), array([1.89770238, 1.88904116, 1.8993929 , 1.89272118, 1.9008494 ]), array([1.88904116, 1.8993929 , 1.89272118, 1.9008494 , 1.85158815]), array([1.8993929 , 1.89272118, 1.9008494 , 1.85158815, 1.86187883]), array([1.89272118, 1.9008494 , 1.85158815, 1.86187883, 1.90313024]), array([1.9008494 , 1.85158815, 1.86187883, 1.90313024, 1.8895736 ]), array([1.85158815, 1.86187883, 1.90313024, 1.8895736 , 1.93979024]), array([1.86187883, 1.90313024, 1.8895736 , 1.93979024, 1.93707003]), array([1.90313024, 1.8895736 , 1.93979024, 1.93707003, 1.90199734]), array([1.8895736 , 1.93979024, 1.93707003, 1.90199734, 1.92132198]), array([1.93979024, 1.93707003, 1.90199734, 1.92132198, 1.94535936]), array([1.93707003, 1.90199734, 1.92132198, 1.94535936, 1.94326198]), array([1.90199734, 1.92132198, 1.94535936, 1.94326198, 1.96823778]), array([1.92132198, 1.94535936, 1.94326198, 1.96823778, 1.999413  ]), array([1.94535936, 1.94326198, 1.96823778, 1.999413  , 1.9721835 ]), array([1.94326198, 1.96823778, 1.999413  , 1.9721835 , 1.97586963]), array([1.96823778, 1.999413  , 1.9721835 , 1.97586963, 1.9684504 ]), array([1.999413  , 1.9721835 , 1.97586963, 1.9684504 , 1.9734365 ]), array([1.9721835 , 1.97586963, 1.9684504 , 1.9734365 , 1.93687032]), array([1.97586963, 1.9684504 , 1.9734365 , 1.93687032, 1.97708121]), array([1.9684504 , 1.9734365 , 1.93687032, 1.97708121, 1.97472706]), array([1.9734365 , 1.93687032, 1.97708121, 1.97472706, 1.93994427]), array([1.93687032, 1.97708121, 1.97472706, 1.93994427, 1.97824464]), array([1.97708121, 1.97472706, 1.93994427, 1.97824464, 1.99964625]), array([1.97472706, 1.93994427, 1.97824464, 1.99964625, 2.010078  ]), array([1.93994427, 1.97824464, 1.99964625, 2.010078  , 2.0250455 ]), array([1.97824464, 1.99964625, 2.010078  , 2.0250455 , 2.00122405]), array([1.99964625, 2.010078  , 2.0250455 , 2.00122405, 1.9974035 ]), array([2.010078  , 2.0250455 , 2.00122405, 1.9974035 , 1.99332468]), array([2.0250455 , 2.00122405, 1.9974035 , 1.99332468, 2.01788611]), array([2.00122405, 1.9974035 , 1.99332468, 2.01788611, 2.0359578 ]), array([1.9974035 , 1.99332468, 2.01788611, 2.0359578 , 2.03743233]), array([1.99332468, 2.01788611, 2.0359578 , 2.03743233, 2.04178878]), array([2.01788611, 2.0359578 , 2.03743233, 2.04178878, 2.04586164]), array([2.0359578 , 2.03743233, 2.04178878, 2.04586164, 2.085345  ]), array([2.03743233, 2.04178878, 2.04586164, 2.085345  , 2.06401009]), array([2.04178878, 2.04586164, 2.085345  , 2.06401009, 2.043678  ]), array([2.04586164, 2.085345  , 2.06401009, 2.043678  , 2.10733712]), array([2.085345  , 2.06401009, 2.043678  , 2.10733712, 2.1310331 ]), array([2.06401009, 2.043678  , 2.10733712, 2.1310331 , 2.1644784 ]), array([2.043678  , 2.10733712, 2.1310331 , 2.1644784 , 2.19847275]), array([2.10733712, 2.1310331 , 2.1644784 , 2.19847275, 2.1872161 ]), array([2.1310331 , 2.1644784 , 2.19847275, 2.1872161 , 2.2261642 ]), array([2.1644784 , 2.19847275, 2.1872161 , 2.2261642 , 2.23385016]), array([2.19847275, 2.1872161 , 2.2261642 , 2.23385016, 2.27358144]), array([2.1872161 , 2.2261642 , 2.23385016, 2.27358144, 2.27096397]), array([2.2261642 , 2.23385016, 2.27358144, 2.27096397, 2.16756092]), array([2.23385016, 2.27358144, 2.27096397, 2.16756092, 2.18300652]), array([2.27358144, 2.27096397, 2.16756092, 2.18300652, 2.18098584]), array([2.27096397, 2.16756092, 2.18300652, 2.18098584, 2.2153075 ]), array([2.16756092, 2.18300652, 2.18098584, 2.2153075 , 2.22351987]), array([2.18300652, 2.18098584, 2.2153075 , 2.22351987, 2.30355828]), array([2.18098584, 2.2153075 , 2.22351987, 2.30355828, 2.29904736]), array([2.2153075 , 2.22351987, 2.30355828, 2.29904736, 2.29418448]), array([2.22351987, 2.30355828, 2.29904736, 2.29418448, 2.27085401]), array([2.30355828, 2.29904736, 2.29418448, 2.27085401, 2.27861656]), array([2.29904736, 2.29418448, 2.27085401, 2.27861656, 2.29949343]), array([2.29418448, 2.27085401, 2.27861656, 2.29949343, 2.25968292]), array([2.27085401, 2.27861656, 2.29949343, 2.25968292, 2.1857087 ]), array([2.27861656, 2.29949343, 2.25968292, 2.1857087 , 2.1919124 ]), array([2.29949343, 2.25968292, 2.1857087 , 2.1919124 , 2.108764  ]), array([2.25968292, 2.1857087 , 2.1919124 , 2.108764  , 2.1463267 ]), array([2.1857087, 2.1919124, 2.108764 , 2.1463267, 2.153411 ]), array([2.1919124 , 2.108764  , 2.1463267 , 2.153411  , 2.17133734]), array([2.108764  , 2.1463267 , 2.153411  , 2.17133734, 2.16214405]), array([2.1463267 , 2.153411  , 2.17133734, 2.16214405, 2.1909624 ]), array([2.153411  , 2.17133734, 2.16214405, 2.1909624 , 2.20262183]), array([2.17133734, 2.16214405, 2.1909624 , 2.20262183, 2.19513725]), array([2.16214405, 2.1909624 , 2.20262183, 2.19513725, 2.18720825]), array([2.1909624 , 2.20262183, 2.19513725, 2.18720825, 2.21234727]), array([2.20262183, 2.19513725, 2.18720825, 2.21234727, 2.2261512 ]), array([2.19513725, 2.18720825, 2.21234727, 2.2261512 , 2.2195188 ]), array([2.18720825, 2.21234727, 2.2261512 , 2.2195188 , 2.2984038 ]), array([2.21234727, 2.2261512 , 2.2195188 , 2.2984038 , 2.28892419]), array([2.2261512 , 2.2195188 , 2.2984038 , 2.28892419, 2.35784406]), array([2.2195188 , 2.2984038 , 2.28892419, 2.35784406, 2.43389146]), array([2.2984038 , 2.28892419, 2.35784406, 2.43389146, 2.47142007]), array([2.28892419, 2.35784406, 2.43389146, 2.47142007, 2.46273236]), array([2.35784406, 2.43389146, 2.47142007, 2.46273236, 2.46300948]), array([2.43389146, 2.47142007, 2.46273236, 2.46300948, 2.46690002]), array([2.47142007, 2.46273236, 2.46300948, 2.46690002, 2.4554088 ]), array([2.46273236, 2.46300948, 2.46690002, 2.4554088 , 2.46543449]), array([2.46300948, 2.46690002, 2.4554088 , 2.46543449, 2.48279175]), array([2.46690002, 2.4554088 , 2.46543449, 2.48279175, 2.43614433]), array([2.4554088 , 2.46543449, 2.48279175, 2.43614433, 2.49602777]), array([2.46543449, 2.48279175, 2.43614433, 2.49602777, 2.6179536 ]), array([2.48279175, 2.43614433, 2.49602777, 2.6179536 , 2.74645196]), array([2.43614433, 2.49602777, 2.6179536 , 2.74645196, 2.80598256]), array([2.49602777, 2.6179536 , 2.74645196, 2.80598256, 2.90501244]), array([2.6179536 , 2.74645196, 2.80598256, 2.90501244, 2.889084  ]), array([2.74645196, 2.80598256, 2.90501244, 2.889084  , 2.9184432 ]), array([2.80598256, 2.90501244, 2.889084  , 2.9184432 , 2.9118276 ]), array([2.90501244, 2.889084  , 2.9184432 , 2.9118276 , 2.94341009])]\n",
            "[1.2742926, 1.27035792, 1.25521164, 1.2546221, 1.24470596, 1.26551932, 1.28902165, 1.28466432, 1.28565696, 1.2753408, 1.2705994, 1.2706432, 1.2759856, 1.28462115, 1.30373288, 1.30509383, 1.30358514, 1.30070964, 1.29401279, 1.28984958, 1.29081571, 1.306419, 1.32138352, 1.34459388, 1.37186175, 1.34966268, 1.35567571, 1.3678778, 1.35994968, 1.37647782, 1.39907067, 1.41408384, 1.42343964, 1.43127615, 1.45059192, 1.48318812, 1.46288454, 1.45900338, 1.4303443, 1.47153108, 1.47901572, 1.49925, 1.5260829, 1.51964064, 1.53250538, 1.515776, 1.51774688, 1.5357282, 1.536392, 1.5325647, 1.53676479, 1.56278946, 1.5742932, 1.6142789, 1.63370274, 1.6126902, 1.62464535, 1.62075928, 1.61392392, 1.59279527, 1.59965068, 1.60933644, 1.61416134, 1.62121446, 1.61997902, 1.6076454, 1.60840298, 1.63096162, 1.61844375, 1.63694496, 1.66190472, 1.68738084, 1.68498102, 1.69086148, 1.69517541, 1.6879578, 1.6834896, 1.716264, 1.7082807, 1.7079849, 1.72377128, 1.73546858, 1.7572218, 1.75104248, 1.7561902, 1.78245828, 1.75273245, 1.77450185, 1.78608261, 1.79774219, 1.79699247, 1.797783, 1.80608636, 1.81648256, 1.8183354, 1.82637716, 1.8317768, 1.83257529, 1.8088686, 1.78401319, 1.75038797, 1.76128953, 1.82298783, 1.82102544, 1.83565592, 1.85726448, 1.850535, 1.90238412, 1.893956, 1.88827128, 1.88590208, 1.89978282, 1.9129, 1.92114124, 1.89770238, 1.88904116, 1.8993929, 1.89272118, 1.9008494, 1.85158815, 1.86187883, 1.90313024, 1.8895736, 1.93979024, 1.93707003, 1.90199734, 1.92132198, 1.94535936, 1.94326198, 1.96823778, 1.999413, 1.9721835, 1.97586963, 1.9684504, 1.9734365, 1.93687032, 1.97708121, 1.97472706, 1.93994427, 1.97824464, 1.99964625, 2.010078, 2.0250455, 2.00122405, 1.9974035, 1.99332468, 2.01788611, 2.0359578, 2.03743233, 2.04178878, 2.04586164, 2.085345, 2.06401009, 2.043678, 2.10733712, 2.1310331, 2.1644784, 2.19847275, 2.1872161, 2.2261642, 2.23385016, 2.27358144, 2.27096397, 2.16756092, 2.18300652, 2.18098584, 2.2153075, 2.22351987, 2.30355828, 2.29904736, 2.29418448, 2.27085401, 2.27861656, 2.29949343, 2.25968292, 2.1857087, 2.1919124, 2.108764, 2.1463267, 2.153411, 2.17133734, 2.16214405, 2.1909624, 2.20262183, 2.19513725, 2.18720825, 2.21234727, 2.2261512, 2.2195188, 2.2984038, 2.28892419, 2.35784406, 2.43389146, 2.47142007, 2.46273236, 2.46300948, 2.46690002, 2.4554088, 2.46543449, 2.48279175, 2.43614433, 2.49602777, 2.6179536, 2.74645196, 2.80598256, 2.90501244, 2.889084, 2.9184432, 2.9118276, 2.94341009, 2.97894127]\n"
          ]
        }
      ]
    },
    {
      "cell_type": "code",
      "source": [
        "x_train,y_train=np.array(x_train),np.array(y_train)\n",
        "x_train=np.reshape(x_train,(x_train.shape[0],5,1))\n",
        "x_train"
      ],
      "metadata": {
        "colab": {
          "base_uri": "https://localhost:8080/"
        },
        "id": "QWdPq6NWqaCJ",
        "outputId": "162bf807-3d38-44c7-8b93-ee8468a833ab"
      },
      "execution_count": 31,
      "outputs": [
        {
          "output_type": "execute_result",
          "data": {
            "text/plain": [
              "array([[[1.24884205],\n",
              "        [1.25874012],\n",
              "        [1.25822563],\n",
              "        [1.2506411 ],\n",
              "        [1.2782322 ]],\n",
              "\n",
              "       [[1.25874012],\n",
              "        [1.25822563],\n",
              "        [1.2506411 ],\n",
              "        [1.2782322 ],\n",
              "        [1.2742926 ]],\n",
              "\n",
              "       [[1.25822563],\n",
              "        [1.2506411 ],\n",
              "        [1.2782322 ],\n",
              "        [1.2742926 ],\n",
              "        [1.27035792]],\n",
              "\n",
              "       ...,\n",
              "\n",
              "       [[2.74645196],\n",
              "        [2.80598256],\n",
              "        [2.90501244],\n",
              "        [2.889084  ],\n",
              "        [2.9184432 ]],\n",
              "\n",
              "       [[2.80598256],\n",
              "        [2.90501244],\n",
              "        [2.889084  ],\n",
              "        [2.9184432 ],\n",
              "        [2.9118276 ]],\n",
              "\n",
              "       [[2.90501244],\n",
              "        [2.889084  ],\n",
              "        [2.9184432 ],\n",
              "        [2.9118276 ],\n",
              "        [2.94341009]]])"
            ]
          },
          "metadata": {},
          "execution_count": 31
        }
      ]
    },
    {
      "cell_type": "code",
      "source": [
        "from keras.layers import Dropout\n",
        "#Build LSTM model\n",
        "model = Sequential()\n",
        "#Adding the first LSTM layer and some Dropout regularisation\n",
        "model.add(LSTM(units = 50, return_sequences = True, input_shape = (x_train.shape[1],1)))\n",
        "model.add(Dropout(0.2))\n",
        "# Adding a second LSTM layer and some Dropout regularisation\n",
        "model.add(LSTM(units = 50, return_sequences = True))\n",
        "model.add(Dropout(0.2))\n",
        "# Adding a third LSTM layer and some Dropout regularisation\n",
        "model.add(LSTM(units = 50, return_sequences = True))\n",
        "model.add(Dropout(0.2))\n",
        "# Adding a fourth LSTM layer and some Dropout regularisation\n",
        "model.add(LSTM(units = 50,return_sequences = True))\n",
        "model.add(Dropout(0.2))\n",
        "# Adding a fifth LSTM layer and some Dropout regularisation\n",
        "model.add(LSTM(units = 50))\n",
        "model.add(Dropout(0.2))\n",
        "# Adding the output layer\n",
        "model.add(Dense(units = 1))\n"
      ],
      "metadata": {
        "id": "8QLyRDNJqcZA"
      },
      "execution_count": 32,
      "outputs": []
    },
    {
      "cell_type": "code",
      "source": [
        "#Compile model\n",
        "model.compile(optimizer='adam',loss='mean_squared_error')"
      ],
      "metadata": {
        "id": "aN7n_ua_qgRw"
      },
      "execution_count": 33,
      "outputs": []
    },
    {
      "cell_type": "code",
      "source": [
        "#train model\n",
        "model.fit(x_train,y_train,batch_size=32,epochs=100)"
      ],
      "metadata": {
        "colab": {
          "base_uri": "https://localhost:8080/"
        },
        "id": "wRuK3eOiqiFa",
        "outputId": "0149e390-3667-48bc-d413-738828c9e5db"
      },
      "execution_count": 34,
      "outputs": [
        {
          "output_type": "stream",
          "name": "stdout",
          "text": [
            "Epoch 1/100\n",
            "7/7 [==============================] - 9s 16ms/step - loss: 3.4313\n",
            "Epoch 2/100\n",
            "7/7 [==============================] - 0s 15ms/step - loss: 2.5710\n",
            "Epoch 3/100\n",
            "7/7 [==============================] - 0s 16ms/step - loss: 0.6409\n",
            "Epoch 4/100\n",
            "7/7 [==============================] - 0s 16ms/step - loss: 0.4502\n",
            "Epoch 5/100\n",
            "7/7 [==============================] - 0s 17ms/step - loss: 0.2342\n",
            "Epoch 6/100\n",
            "7/7 [==============================] - 0s 16ms/step - loss: 0.2072\n",
            "Epoch 7/100\n",
            "7/7 [==============================] - 0s 16ms/step - loss: 0.1457\n",
            "Epoch 8/100\n",
            "7/7 [==============================] - 0s 16ms/step - loss: 0.1185\n",
            "Epoch 9/100\n",
            "7/7 [==============================] - 0s 16ms/step - loss: 0.1141\n",
            "Epoch 10/100\n",
            "7/7 [==============================] - 0s 15ms/step - loss: 0.0972\n",
            "Epoch 11/100\n",
            "7/7 [==============================] - 0s 19ms/step - loss: 0.0992\n",
            "Epoch 12/100\n",
            "7/7 [==============================] - 0s 16ms/step - loss: 0.0946\n",
            "Epoch 13/100\n",
            "7/7 [==============================] - 0s 16ms/step - loss: 0.0927\n",
            "Epoch 14/100\n",
            "7/7 [==============================] - 0s 22ms/step - loss: 0.0939\n",
            "Epoch 15/100\n",
            "7/7 [==============================] - 0s 19ms/step - loss: 0.0716\n",
            "Epoch 16/100\n",
            "7/7 [==============================] - 0s 20ms/step - loss: 0.0728\n",
            "Epoch 17/100\n",
            "7/7 [==============================] - 0s 17ms/step - loss: 0.0771\n",
            "Epoch 18/100\n",
            "7/7 [==============================] - 0s 16ms/step - loss: 0.0706\n",
            "Epoch 19/100\n",
            "7/7 [==============================] - 0s 16ms/step - loss: 0.0835\n",
            "Epoch 20/100\n",
            "7/7 [==============================] - 0s 15ms/step - loss: 0.0564\n",
            "Epoch 21/100\n",
            "7/7 [==============================] - 0s 15ms/step - loss: 0.0670\n",
            "Epoch 22/100\n",
            "7/7 [==============================] - 0s 16ms/step - loss: 0.0606\n",
            "Epoch 23/100\n",
            "7/7 [==============================] - 0s 17ms/step - loss: 0.0531\n",
            "Epoch 24/100\n",
            "7/7 [==============================] - 0s 17ms/step - loss: 0.0473\n",
            "Epoch 25/100\n",
            "7/7 [==============================] - 0s 16ms/step - loss: 0.0550\n",
            "Epoch 26/100\n",
            "7/7 [==============================] - 0s 17ms/step - loss: 0.0401\n",
            "Epoch 27/100\n",
            "7/7 [==============================] - 0s 17ms/step - loss: 0.0383\n",
            "Epoch 28/100\n",
            "7/7 [==============================] - 0s 17ms/step - loss: 0.0486\n",
            "Epoch 29/100\n",
            "7/7 [==============================] - 0s 18ms/step - loss: 0.0457\n",
            "Epoch 30/100\n",
            "7/7 [==============================] - 0s 23ms/step - loss: 0.0390\n",
            "Epoch 31/100\n",
            "7/7 [==============================] - 0s 19ms/step - loss: 0.0435\n",
            "Epoch 32/100\n",
            "7/7 [==============================] - 0s 21ms/step - loss: 0.0428\n",
            "Epoch 33/100\n",
            "7/7 [==============================] - 0s 18ms/step - loss: 0.0477\n",
            "Epoch 34/100\n",
            "7/7 [==============================] - 0s 16ms/step - loss: 0.0471\n",
            "Epoch 35/100\n",
            "7/7 [==============================] - 0s 17ms/step - loss: 0.0408\n",
            "Epoch 36/100\n",
            "7/7 [==============================] - 0s 16ms/step - loss: 0.0433\n",
            "Epoch 37/100\n",
            "7/7 [==============================] - 0s 16ms/step - loss: 0.0464\n",
            "Epoch 38/100\n",
            "7/7 [==============================] - 0s 17ms/step - loss: 0.0404\n",
            "Epoch 39/100\n",
            "7/7 [==============================] - 0s 17ms/step - loss: 0.0476\n",
            "Epoch 40/100\n",
            "7/7 [==============================] - 0s 16ms/step - loss: 0.0468\n",
            "Epoch 41/100\n",
            "7/7 [==============================] - 0s 15ms/step - loss: 0.0534\n",
            "Epoch 42/100\n",
            "7/7 [==============================] - 0s 17ms/step - loss: 0.0448\n",
            "Epoch 43/100\n",
            "7/7 [==============================] - 0s 18ms/step - loss: 0.0468\n",
            "Epoch 44/100\n",
            "7/7 [==============================] - 0s 16ms/step - loss: 0.0449\n",
            "Epoch 45/100\n",
            "7/7 [==============================] - 0s 17ms/step - loss: 0.0509\n",
            "Epoch 46/100\n",
            "7/7 [==============================] - 0s 17ms/step - loss: 0.0488\n",
            "Epoch 47/100\n",
            "7/7 [==============================] - 0s 21ms/step - loss: 0.0411\n",
            "Epoch 48/100\n",
            "7/7 [==============================] - 0s 17ms/step - loss: 0.0396\n",
            "Epoch 49/100\n",
            "7/7 [==============================] - 0s 16ms/step - loss: 0.0417\n",
            "Epoch 50/100\n",
            "7/7 [==============================] - 0s 16ms/step - loss: 0.0423\n",
            "Epoch 51/100\n",
            "7/7 [==============================] - 0s 17ms/step - loss: 0.0386\n",
            "Epoch 52/100\n",
            "7/7 [==============================] - 0s 17ms/step - loss: 0.0422\n",
            "Epoch 53/100\n",
            "7/7 [==============================] - 0s 16ms/step - loss: 0.0419\n",
            "Epoch 54/100\n",
            "7/7 [==============================] - 0s 17ms/step - loss: 0.0409\n",
            "Epoch 55/100\n",
            "7/7 [==============================] - 0s 16ms/step - loss: 0.0445\n",
            "Epoch 56/100\n",
            "7/7 [==============================] - 0s 16ms/step - loss: 0.0435\n",
            "Epoch 57/100\n",
            "7/7 [==============================] - 0s 17ms/step - loss: 0.0539\n",
            "Epoch 58/100\n",
            "7/7 [==============================] - 0s 17ms/step - loss: 0.0402\n",
            "Epoch 59/100\n",
            "7/7 [==============================] - 0s 16ms/step - loss: 0.0401\n",
            "Epoch 60/100\n",
            "7/7 [==============================] - 0s 16ms/step - loss: 0.0346\n",
            "Epoch 61/100\n",
            "7/7 [==============================] - 0s 16ms/step - loss: 0.0435\n",
            "Epoch 62/100\n",
            "7/7 [==============================] - 0s 18ms/step - loss: 0.0350\n",
            "Epoch 63/100\n",
            "7/7 [==============================] - 0s 18ms/step - loss: 0.0319\n",
            "Epoch 64/100\n",
            "7/7 [==============================] - 0s 17ms/step - loss: 0.0370\n",
            "Epoch 65/100\n",
            "7/7 [==============================] - 0s 19ms/step - loss: 0.0307\n",
            "Epoch 66/100\n",
            "7/7 [==============================] - 0s 17ms/step - loss: 0.0417\n",
            "Epoch 67/100\n",
            "7/7 [==============================] - 0s 20ms/step - loss: 0.0386\n",
            "Epoch 68/100\n",
            "7/7 [==============================] - 0s 17ms/step - loss: 0.0332\n",
            "Epoch 69/100\n",
            "7/7 [==============================] - 0s 23ms/step - loss: 0.0376\n",
            "Epoch 70/100\n",
            "7/7 [==============================] - 0s 17ms/step - loss: 0.0374\n",
            "Epoch 71/100\n",
            "7/7 [==============================] - 0s 16ms/step - loss: 0.0349\n",
            "Epoch 72/100\n",
            "7/7 [==============================] - 0s 17ms/step - loss: 0.0392\n",
            "Epoch 73/100\n",
            "7/7 [==============================] - 0s 20ms/step - loss: 0.0327\n",
            "Epoch 74/100\n",
            "7/7 [==============================] - 0s 17ms/step - loss: 0.0364\n",
            "Epoch 75/100\n",
            "7/7 [==============================] - 0s 18ms/step - loss: 0.0332\n",
            "Epoch 76/100\n",
            "7/7 [==============================] - 0s 17ms/step - loss: 0.0342\n",
            "Epoch 77/100\n",
            "7/7 [==============================] - 0s 17ms/step - loss: 0.0346\n",
            "Epoch 78/100\n",
            "7/7 [==============================] - 0s 18ms/step - loss: 0.0315\n",
            "Epoch 79/100\n",
            "7/7 [==============================] - 0s 19ms/step - loss: 0.0280\n",
            "Epoch 80/100\n",
            "7/7 [==============================] - 0s 20ms/step - loss: 0.0391\n",
            "Epoch 81/100\n",
            "7/7 [==============================] - 0s 20ms/step - loss: 0.0354\n",
            "Epoch 82/100\n",
            "7/7 [==============================] - 0s 19ms/step - loss: 0.0328\n",
            "Epoch 83/100\n",
            "7/7 [==============================] - 0s 15ms/step - loss: 0.0301\n",
            "Epoch 84/100\n",
            "7/7 [==============================] - 0s 16ms/step - loss: 0.0269\n",
            "Epoch 85/100\n",
            "7/7 [==============================] - 0s 18ms/step - loss: 0.0294\n",
            "Epoch 86/100\n",
            "7/7 [==============================] - 0s 15ms/step - loss: 0.0297\n",
            "Epoch 87/100\n",
            "7/7 [==============================] - 0s 15ms/step - loss: 0.0258\n",
            "Epoch 88/100\n",
            "7/7 [==============================] - 0s 17ms/step - loss: 0.0296\n",
            "Epoch 89/100\n",
            "7/7 [==============================] - 0s 17ms/step - loss: 0.0344\n",
            "Epoch 90/100\n",
            "7/7 [==============================] - 0s 20ms/step - loss: 0.0370\n",
            "Epoch 91/100\n",
            "7/7 [==============================] - 0s 17ms/step - loss: 0.0345\n",
            "Epoch 92/100\n",
            "7/7 [==============================] - 0s 18ms/step - loss: 0.0318\n",
            "Epoch 93/100\n",
            "7/7 [==============================] - 0s 17ms/step - loss: 0.0336\n",
            "Epoch 94/100\n",
            "7/7 [==============================] - 0s 19ms/step - loss: 0.0321\n",
            "Epoch 95/100\n",
            "7/7 [==============================] - 0s 17ms/step - loss: 0.0305\n",
            "Epoch 96/100\n",
            "7/7 [==============================] - 0s 18ms/step - loss: 0.0264\n",
            "Epoch 97/100\n",
            "7/7 [==============================] - 0s 17ms/step - loss: 0.0343\n",
            "Epoch 98/100\n",
            "7/7 [==============================] - 0s 16ms/step - loss: 0.0387\n",
            "Epoch 99/100\n",
            "7/7 [==============================] - 0s 17ms/step - loss: 0.0331\n",
            "Epoch 100/100\n",
            "7/7 [==============================] - 0s 16ms/step - loss: 0.0254\n"
          ]
        },
        {
          "output_type": "execute_result",
          "data": {
            "text/plain": [
              "<keras.callbacks.History at 0x7f1f4df35150>"
            ]
          },
          "metadata": {},
          "execution_count": 34
        }
      ]
    },
    {
      "cell_type": "code",
      "source": [
        "test_data=dataset[training_data_len-5:]\n",
        "x_test=[]\n",
        "y_test=dataset[training_data_len:]\n",
        "for i in range (5,len(test_data)):\n",
        "  x_test.append(test_data[i-5:i])"
      ],
      "metadata": {
        "id": "ayubHrS1qkxJ"
      },
      "execution_count": 35,
      "outputs": []
    },
    {
      "cell_type": "code",
      "source": [
        "x_test=np.array(x_test)\n",
        "x_test=np.reshape(x_test,(x_test.shape[0],x_test.shape[1],1))\n",
        "predictions=model.predict(x_test)\n",
        "L=[]\n",
        "for i in range (len(predictions)):\n",
        "  L.append(predictions[i][0])\n",
        "rmse=np.sqrt(np.mean(predictions-y_test)**2)\n",
        "print(rmse)\n",
        "mse=np.mean(predictions-y_test)**2\n",
        "print(mse)\n",
        "MAE=mean_absolute_error(y_test,L)\n",
        "print(\"MAE :\",MAE)\n",
        "Variance=explained_variance_score(y_test,L)\n",
        "print(\"Variance\",Variance)\n"
      ],
      "metadata": {
        "colab": {
          "base_uri": "https://localhost:8080/"
        },
        "id": "jpnYqNCJqoWA",
        "outputId": "964ded8a-c28d-44a2-d640-1aaca8cdeaa2"
      },
      "execution_count": 36,
      "outputs": [
        {
          "output_type": "stream",
          "name": "stdout",
          "text": [
            "2/2 [==============================] - 5s 20ms/step\n",
            "0.04757447278212985\n",
            "0.0022633304604976136\n",
            "MAE : 0.07865482485675396\n",
            "Variance 0.3847901663795579\n"
          ]
        }
      ]
    }
  ]
}